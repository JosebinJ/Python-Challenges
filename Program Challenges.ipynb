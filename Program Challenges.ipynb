{
 "cells": [
  {
   "cell_type": "markdown",
   "id": "d178b13d",
   "metadata": {},
   "source": [
    "### Problem 1"
   ]
  },
  {
   "cell_type": "code",
   "execution_count": 1,
   "id": "25f279af",
   "metadata": {},
   "outputs": [
    {
     "name": "stdout",
     "output_type": "stream",
     "text": [
      "Please enter your name\n",
      "Lister\n",
      "Enter your age\n",
      "39\n",
      "What is your favourite TV programme?\n",
      "Red Dwarf\n",
      "Lister\n",
      "is\n",
      "39\n",
      "years old and likes\n",
      "Red Dwarf\n"
     ]
    }
   ],
   "source": [
    "print(\"Please enter your name\")\n",
    "str1=input()\n",
    "print(\"Enter your age\")\n",
    "num=int(input())\n",
    "print(\"What is your favourite TV programme?\")\n",
    "str2=input()\n",
    "print(str1)\n",
    "print(\"is\")\n",
    "print(num)\n",
    "print(\"years old and likes\")\n",
    "print(str2)"
   ]
  },
  {
   "cell_type": "markdown",
   "id": "677adcd9",
   "metadata": {},
   "source": [
    "### Problem 2"
   ]
  },
  {
   "cell_type": "code",
   "execution_count": 3,
   "id": "fee6cb8e",
   "metadata": {},
   "outputs": [
    {
     "name": "stdout",
     "output_type": "stream",
     "text": [
      "Enter the first name\n",
      "David\n",
      "Enter the surname\n",
      "Tennant\n",
      "Tennant David\n"
     ]
    }
   ],
   "source": [
    "print(\"Enter the first name\")\n",
    "str1=input()\n",
    "print(\"Enter the surname\")\n",
    "str2=input()\n",
    "print(str2,str1)"
   ]
  },
  {
   "cell_type": "markdown",
   "id": "235efff1",
   "metadata": {},
   "source": [
    "### Problem 3"
   ]
  },
  {
   "cell_type": "code",
   "execution_count": 4,
   "id": "e6e833ed",
   "metadata": {},
   "outputs": [
    {
     "name": "stdout",
     "output_type": "stream",
     "text": [
      "Please enter your name\n",
      "Lister\n",
      "Enter your age\n",
      "39\n",
      "What is your favourite TV programme?\n",
      "Red Dwarf\n",
      "Lister 39\n",
      "Likes watching Red Dwarf\n"
     ]
    }
   ],
   "source": [
    "print(\"Please enter your name\")\n",
    "str1=input()\n",
    "print(\"Enter your age\")\n",
    "num=int(input())\n",
    "print(\"What is your favourite TV programme?\")\n",
    "str2=input()\n",
    "print(str1,num)\n",
    "print(\"Likes watching\",str2)"
   ]
  },
  {
   "cell_type": "markdown",
   "id": "7df42b04",
   "metadata": {},
   "source": [
    "### Problem 4"
   ]
  },
  {
   "cell_type": "code",
   "execution_count": 5,
   "id": "0cf6b3a2",
   "metadata": {},
   "outputs": [
    {
     "name": "stdout",
     "output_type": "stream",
     "text": [
      "Enter the postcode\n",
      "KY\n",
      "8\n",
      "9\n",
      "HL\n",
      "KY8 9HL\n"
     ]
    }
   ],
   "source": [
    "print(\"Enter the postcode\")\n",
    "str1=input()\n",
    "num1=int(input())\n",
    "num2=int(input())\n",
    "str2=input()\n",
    "print(str1+str(num1),str(num2)+str2)"
   ]
  },
  {
   "cell_type": "markdown",
   "id": "d0176f74",
   "metadata": {},
   "source": [
    "### Problem 5"
   ]
  },
  {
   "cell_type": "code",
   "execution_count": 6,
   "id": "a7c5f8d0",
   "metadata": {},
   "outputs": [
    {
     "name": "stdout",
     "output_type": "stream",
     "text": [
      "Please enter the following values in cm\n",
      "Please enter the length of the rectangle\n",
      "12\n",
      "Please enter the width of the rectangle\n",
      "6\n",
      "The area of the rectangle is: 72 square centimetres\n"
     ]
    }
   ],
   "source": [
    "print(\"Please enter the following values in cm\")\n",
    "print(\"Please enter the length of the rectangle\")\n",
    "num1=int(input())\n",
    "print(\"Please enter the width of the rectangle\")\n",
    "num2=int(input())\n",
    "ar=num1*num2\n",
    "print(\"The area of the rectangle is:\",ar,\"square centimetres\")"
   ]
  },
  {
   "cell_type": "markdown",
   "id": "f6c2988c",
   "metadata": {},
   "source": [
    "### Problem 6"
   ]
  },
  {
   "cell_type": "code",
   "execution_count": 1,
   "id": "02e7b0f6",
   "metadata": {},
   "outputs": [
    {
     "name": "stdout",
     "output_type": "stream",
     "text": [
      "Enter digits between 0 and 9\n",
      "Enter first number2\n",
      "Enter second number6\n",
      "26\n"
     ]
    }
   ],
   "source": [
    "print(\"Enter digits between 0 and 9\")\n",
    "num1=int(input(\"Enter first number\"))\n",
    "num2=int(input(\"Enter second number\"))\n",
    "total=str(num1)+str(num2)\n",
    "print(total)"
   ]
  },
  {
   "cell_type": "markdown",
   "id": "aedea9d5",
   "metadata": {},
   "source": [
    "### Problem 7"
   ]
  },
  {
   "cell_type": "code",
   "execution_count": 2,
   "id": "1821f5ba",
   "metadata": {},
   "outputs": [
    {
     "name": "stdout",
     "output_type": "stream",
     "text": [
      "Enter the postcode\n",
      "ky\n",
      "8\n",
      "9\n",
      "hl\n",
      "KY8 9HL\n"
     ]
    }
   ],
   "source": [
    "print(\"Enter the postcode\")\n",
    "str1=input()\n",
    "num1=int(input())\n",
    "num2=int(input())\n",
    "str2=input()\n",
    "phr1=str1+str(num1)\n",
    "phr2=str(num2)+str2\n",
    "print(phr1.upper(),phr2.upper())"
   ]
  },
  {
   "cell_type": "markdown",
   "id": "0119b1df",
   "metadata": {},
   "source": [
    "### Problem 8"
   ]
  },
  {
   "cell_type": "code",
   "execution_count": 4,
   "id": "0c615b3b",
   "metadata": {},
   "outputs": [
    {
     "name": "stdout",
     "output_type": "stream",
     "text": [
      "Please enter your forename\n",
      "David\n",
      "Please enter your surname\n",
      "Stott\n",
      "There are 10 letters in your name\n"
     ]
    }
   ],
   "source": [
    "print(\"Please enter your forename\")\n",
    "str1=input()\n",
    "print(\"Please enter your surname\")\n",
    "str2=input()\n",
    "phr=str1+str2\n",
    "length=len(phr)\n",
    "print(\"There are\",length,\"letters in your name\")"
   ]
  },
  {
   "cell_type": "markdown",
   "id": "0dd0d507",
   "metadata": {},
   "source": [
    "### Problem 9"
   ]
  },
  {
   "cell_type": "code",
   "execution_count": 10,
   "id": "d6db6681",
   "metadata": {},
   "outputs": [
    {
     "name": "stdout",
     "output_type": "stream",
     "text": [
      "Please enter a sentence of your choice.\n",
      "Luke, I am your father\n",
      "Your sentence contained the following:\n",
      "a = 2\n",
      "e = 2\n",
      "i = 1\n",
      "o = 1\n",
      "u = 2\n",
      "This is a total of 8 vowels\n"
     ]
    }
   ],
   "source": [
    "print(\"Please enter a sentence of your choice.\")\n",
    "sen1=input()\n",
    "sen=sen1.lower()\n",
    "v1=sen.count(\"a\")\n",
    "v2=sen.count(\"e\")\n",
    "v3=sen.count(\"i\")\n",
    "v4=sen.count(\"o\")\n",
    "v5=sen.count(\"u\")\n",
    "tot=v1+v2+v3+v4+v5\n",
    "print(\"Your sentence contained the following:\")\n",
    "print(\"a =\",v1)\n",
    "print(\"e =\",v2)\n",
    "print(\"i =\",v3)\n",
    "print(\"o =\",v4)\n",
    "print(\"u =\",v5)\n",
    "print(\"This is a total of\",tot,\"vowels\")"
   ]
  },
  {
   "cell_type": "markdown",
   "id": "9e625a1e",
   "metadata": {},
   "source": [
    "### Problem 10"
   ]
  },
  {
   "cell_type": "code",
   "execution_count": 12,
   "id": "40284781",
   "metadata": {},
   "outputs": [
    {
     "name": "stdout",
     "output_type": "stream",
     "text": [
      "Please enter the male report.\n",
      "He should always ensure that his answers contain as much detail as possible.\n",
      "The female comment is:\n",
      "She should always ensure that her answers contain as much detail as possible.\n"
     ]
    }
   ],
   "source": [
    "print(\"Please enter the male report.\")\n",
    "sen=input()\n",
    "sen1=sen.replace(\"He\",\"She\")\n",
    "sen2=sen1.replace(\"his\",\"her\")\n",
    "print(\"The female comment is:\")\n",
    "print(sen2)"
   ]
  },
  {
   "cell_type": "markdown",
   "id": "c3724e2c",
   "metadata": {},
   "source": [
    "### Problem 11"
   ]
  },
  {
   "cell_type": "code",
   "execution_count": 13,
   "id": "815a782e",
   "metadata": {},
   "outputs": [
    {
     "name": "stdout",
     "output_type": "stream",
     "text": [
      "Please enter the product name.\n",
      "Plaza Beans\n",
      "Please enter the year\n",
      "2016\n",
      "The stock code for Plaza Beans is:\n",
      "Plns26\n"
     ]
    }
   ],
   "source": [
    "print(\"Please enter the product name.\")\n",
    "str1=input()\n",
    "len1=len(str1)\n",
    "print(\"Please enter the year\")\n",
    "y=str(input())\n",
    "s=str1[0:2]\n",
    "t=str1[-2:]\n",
    "r=y[0:1]\n",
    "u=y[3:4]\n",
    "str2=s+t+r+u\n",
    "print(\"The stock code for\",str1,\"is:\")\n",
    "print(str2)"
   ]
  },
  {
   "cell_type": "markdown",
   "id": "fc7188a8",
   "metadata": {},
   "source": [
    "### Problem 12"
   ]
  },
  {
   "cell_type": "code",
   "execution_count": 18,
   "id": "43c085b6",
   "metadata": {},
   "outputs": [
    {
     "name": "stdout",
     "output_type": "stream",
     "text": [
      "Please enter your three costs\n",
      "12.78\n",
      "6.32\n",
      "34.99\n",
      "The total cost is $ 54.09\n",
      "The auction company's fee is $ 5.0\n"
     ]
    }
   ],
   "source": [
    "print(\"Please enter your three costs\")\n",
    "num1=float(input())\n",
    "num2=float(input())\n",
    "num3=float(input())\n",
    "total1=float(num1+num2+num3)\n",
    "fee1=total1*0.1\n",
    "fees=float(round(fee1))\n",
    "print(\"The total cost is $\",total1)\n",
    "print(\"The auction company's fee is $\",fees)"
   ]
  },
  {
   "cell_type": "markdown",
   "id": "28664f8d",
   "metadata": {},
   "source": [
    "### Problem 13"
   ]
  },
  {
   "cell_type": "code",
   "execution_count": 20,
   "id": "e642760c",
   "metadata": {},
   "outputs": [
    {
     "name": "stdout",
     "output_type": "stream",
     "text": [
      "Please enter the following value in cm.\n",
      "Please enter the radius of the circle.\n",
      "16\n",
      "The area of the circle is: 803.84 square centimetres.\n"
     ]
    }
   ],
   "source": [
    "print(\"Please enter the following value in cm.\")\n",
    "print(\"Please enter the radius of the circle.\")\n",
    "r=float(input())\n",
    "area=3.14*r**2\n",
    "print(\"The area of the circle is:\",area,\"square centimetres.\")"
   ]
  },
  {
   "cell_type": "markdown",
   "id": "62954ef8",
   "metadata": {},
   "source": [
    "### Problem 14"
   ]
  },
  {
   "cell_type": "code",
   "execution_count": 24,
   "id": "4da75524",
   "metadata": {},
   "outputs": [
    {
     "name": "stdout",
     "output_type": "stream",
     "text": [
      "Please enter the volume of the jar(cm3):\n",
      "2712.96\n",
      "Please enter the volume of one sweet(cm3):\n",
      "2.12\n",
      "1279 sweets fit into the jar.\n"
     ]
    }
   ],
   "source": [
    "print(\"Please enter the volume of the jar(cm3):\")\n",
    "v1=float(input())\n",
    "print(\"Please enter the volume of one sweet(cm3):\")\n",
    "v2=float(input())\n",
    "n=int(v1/v2)\n",
    "print(n,\"sweets fit into the jar.\")"
   ]
  },
  {
   "cell_type": "markdown",
   "id": "15e60925",
   "metadata": {},
   "source": [
    "### Problem 15"
   ]
  },
  {
   "cell_type": "code",
   "execution_count": 27,
   "id": "e2036acc",
   "metadata": {},
   "outputs": [
    {
     "name": "stdout",
     "output_type": "stream",
     "text": [
      "Enter the area in m2 to be painted.\n",
      "178\n",
      "Enter the area (m2) that a single pot covers.\n",
      "25\n",
      "You will need 8 pots of paint.\n",
      "You can paint 3.0 m2 with the leftover paint.\n"
     ]
    }
   ],
   "source": [
    "import math\n",
    "print(\"Enter the area in m2 to be painted.\")\n",
    "a1=float(input())\n",
    "print(\"Enter the area (m2) that a single pot covers.\")\n",
    "a2=float(input())\n",
    "n=a1/a2\n",
    "n1=math.ceil(n)\n",
    "a=a1%a2\n",
    "print(\"You will need\",n1,\"pots of paint.\")\n",
    "print(\"You can paint\",a,\"m2 with the leftover paint.\")"
   ]
  },
  {
   "cell_type": "markdown",
   "id": "0c151e1e",
   "metadata": {},
   "source": [
    "### Problem 16"
   ]
  },
  {
   "cell_type": "code",
   "execution_count": 34,
   "id": "53d0e36f",
   "metadata": {},
   "outputs": [
    {
     "name": "stdout",
     "output_type": "stream",
     "text": [
      "Please enter the length of a brick in cm:\n",
      "20\n",
      "Please enter the length of the wall in m:\n",
      "9.89\n",
      "47 bricks build one row of wall.\n",
      "This is 2 cm short than the required wall length\n"
     ]
    }
   ],
   "source": [
    "print(\"Please enter the length of a brick in cm:\")\n",
    "l1=float(input())\n",
    "print(\"Please enter the length of the wall in m:\")\n",
    "l2=float(input())\n",
    "l1=l1+1\n",
    "l=l1/100\n",
    "n=l2/l\n",
    "n1=int(n)\n",
    "l3=n1*l\n",
    "dl=int((l2-l3)*100)\n",
    "print(n1,\"bricks build one row of wall.\")\n",
    "print(\"This is\",dl,\"cm short than the required wall length\")"
   ]
  },
  {
   "cell_type": "markdown",
   "id": "ea154e50",
   "metadata": {},
   "source": [
    "### Problem 17"
   ]
  },
  {
   "cell_type": "code",
   "execution_count": 36,
   "id": "e18ab136",
   "metadata": {},
   "outputs": [
    {
     "name": "stdout",
     "output_type": "stream",
     "text": [
      "Enter the number of carbon atoms.\n",
      "3\n",
      "The atomic mass of C3H8 is 44\n"
     ]
    }
   ],
   "source": [
    "print(\"Enter the number of carbon atoms.\")\n",
    "n_o_c=int(input())\n",
    "n_o_h=(n_o_c*2)+2\n",
    "a_m=(n_o_c*12)+n_o_h\n",
    "str1=str(n_o_c)\n",
    "str2=str(n_o_h)\n",
    "print(\"The atomic mass of C\"+str1+\"H\"+str2 ,\"is\",a_m)"
   ]
  },
  {
   "cell_type": "markdown",
   "id": "2c6fd8c9",
   "metadata": {},
   "source": [
    "### Problem 18"
   ]
  },
  {
   "cell_type": "code",
   "execution_count": 37,
   "id": "ac600db6",
   "metadata": {},
   "outputs": [
    {
     "name": "stdout",
     "output_type": "stream",
     "text": [
      "How many par 3 holes are there?\n",
      "6\n",
      "How many par 4 holes are there?\n",
      "10\n",
      "How many par 5 holes are there?\n",
      "2\n",
      "What is the difficulty adjustment for the course?\n",
      "-2\n",
      "The Standard Scratch score for the course is: 66\n"
     ]
    }
   ],
   "source": [
    "print(\"How many par 3 holes are there?\")\n",
    "h1=int(input())\n",
    "print(\"How many par 4 holes are there?\")\n",
    "h2=int(input())\n",
    "print(\"How many par 5 holes are there?\")\n",
    "h3=int(input())\n",
    "print(\"What is the difficulty adjustment for the course?\")\n",
    "d_a=int(input())\n",
    "total= h1*3 + h2*4 + h3*5\n",
    "std_scratch=total+d_a\n",
    "print(\"The Standard Scratch score for the course is:\",std_scratch)"
   ]
  },
  {
   "cell_type": "markdown",
   "id": "9a032220",
   "metadata": {},
   "source": [
    "### Problem 19"
   ]
  },
  {
   "cell_type": "code",
   "execution_count": 39,
   "id": "15e7c99f",
   "metadata": {},
   "outputs": [
    {
     "name": "stdout",
     "output_type": "stream",
     "text": [
      "What is the circumference of your wheel in millimetres?\n",
      "1250\n",
      "How many wheel revolutions have taken place in your journey?\n",
      "8920\n",
      "How many minutes did you cycle for?\n",
      "30\n",
      "You covered 11.15 km\n",
      "At an average speed of 22.3 kmh\n"
     ]
    }
   ],
   "source": [
    "print(\"What is the circumference of your wheel in millimetres?\")\n",
    "cir=float(input())\n",
    "print(\"How many wheel revolutions have taken place in your journey?\")\n",
    "rev=int(input())\n",
    "print(\"How many minutes did you cycle for?\")\n",
    "tim=float(input())\n",
    "dis=(cir*rev)/10**6\n",
    "hrs=tim/60\n",
    "spd=dis/hrs\n",
    "print(\"You covered\",dis,\"km\")\n",
    "print(\"At an average speed of\",spd,\"kmh\")"
   ]
  },
  {
   "cell_type": "markdown",
   "id": "b61ad12b",
   "metadata": {},
   "source": [
    "### Problem 20"
   ]
  },
  {
   "cell_type": "code",
   "execution_count": 55,
   "id": "831e2624",
   "metadata": {},
   "outputs": [
    {
     "name": "stdout",
     "output_type": "stream",
     "text": [
      "Would you like some advice?\n",
      "y\n",
      "Always remember where your towel is.\n"
     ]
    }
   ],
   "source": [
    "print(\"Would you like some advice?\")\n",
    "var=str(input())\n",
    "if(var==\"Y\" or var==\"y\"):\n",
    "    print(\"Always remember where your towel is.\")"
   ]
  },
  {
   "cell_type": "markdown",
   "id": "2f7b73ea",
   "metadata": {},
   "source": [
    "### Problem 21"
   ]
  },
  {
   "cell_type": "code",
   "execution_count": 54,
   "id": "a389f3f5",
   "metadata": {},
   "outputs": [
    {
     "name": "stdout",
     "output_type": "stream",
     "text": [
      "What is Black's score?\n",
      "88\n",
      "What is White's score?\n",
      "84\n",
      "Fter 6.5 is added the score:\n",
      "Black- 88.0\n",
      "White- 90.5\n",
      "White is the winner.\n"
     ]
    }
   ],
   "source": [
    "print(\"What is Black's score?\")\n",
    "scr1=float(input())\n",
    "print(\"What is White's score?\")\n",
    "scr2=float(input())\n",
    "scr=scr2+6.5\n",
    "print(\"Fter 6.5 is added the score:\")\n",
    "print(\"Black-\",scr1)\n",
    "print(\"White-\",scr)\n",
    "if(scr>scr1):\n",
    "    print(\"White is the winner.\")\n",
    "else:\n",
    "    print(\"Black is the winner.\")"
   ]
  },
  {
   "cell_type": "markdown",
   "id": "9ad62759",
   "metadata": {},
   "source": [
    "### Problem 22"
   ]
  },
  {
   "cell_type": "code",
   "execution_count": 57,
   "id": "fe7d7292",
   "metadata": {},
   "outputs": [
    {
     "name": "stdout",
     "output_type": "stream",
     "text": [
      "Please enter the first amount raised.\n",
      "398\n",
      "Please enter the second amount raised.\n",
      "193\n",
      "Please enter the third amount raised.\n",
      "478\n",
      "A total of $ 1069 was raised.\n",
      "This will be doubled to $ 2138\n"
     ]
    }
   ],
   "source": [
    "print(\"Please enter the first amount raised.\")\n",
    "amt1=int(input())\n",
    "print(\"Please enter the second amount raised.\")\n",
    "amt2=int(input())\n",
    "print(\"Please enter the third amount raised.\")\n",
    "amt3=int(input())\n",
    "tot=amt1+amt2+amt3\n",
    "print(\"A total of $\",tot,\"was raised.\")\n",
    "if(tot>=1000):\n",
    "    tot1=tot*2\n",
    "    print(\"This will be doubled to $\",tot1)"
   ]
  },
  {
   "cell_type": "markdown",
   "id": "790e363b",
   "metadata": {},
   "source": [
    "### Problem 23"
   ]
  },
  {
   "cell_type": "code",
   "execution_count": 58,
   "id": "f95ddba5",
   "metadata": {},
   "outputs": [
    {
     "name": "stdout",
     "output_type": "stream",
     "text": [
      "Rectangle 1\n",
      "Please enter the length:\n",
      "12\n",
      "Please enter the width:\n",
      "6\n",
      "Rectangle 2\n",
      "Please enter the length:\n",
      "7\n",
      "Please enter the width:\n",
      "9\n",
      "Rectangle 1 has the largest area.\n"
     ]
    }
   ],
   "source": [
    "print(\"Rectangle 1\")\n",
    "print(\"Please enter the length:\")\n",
    "l1=int(input())\n",
    "print(\"Please enter the width:\")\n",
    "w1=int(input())\n",
    "a1=l1*w1\n",
    "print(\"Rectangle 2\")\n",
    "print(\"Please enter the length:\")\n",
    "l2=int(input())\n",
    "print(\"Please enter the width:\")\n",
    "w2=int(input())\n",
    "a2=l2*w2\n",
    "if(a1>a2):\n",
    "    print(\"Rectangle 1 has the largest area.\")\n",
    "else:\n",
    "    print(\"Rectangle 2 has the largest area.\")"
   ]
  },
  {
   "cell_type": "markdown",
   "id": "6e5f53ca",
   "metadata": {},
   "source": [
    "### Problem 24"
   ]
  },
  {
   "cell_type": "code",
   "execution_count": 62,
   "id": "54abdaf2",
   "metadata": {},
   "outputs": [
    {
     "name": "stdout",
     "output_type": "stream",
     "text": [
      "Enter sentence 1\n",
      "You can't handle the truth!\n",
      "Enter sentence 2\n",
      "Houston, we have a problem.\n",
      "The percentage of vowels in sentence 1 is: 25.93\n",
      "The percentage of vowels in sentence 2 is: 33.33\n",
      "Sentence 1 has 7 vowels.\n",
      "Sentence 2 has 9 vowels.\n",
      "Sentence 2 has more vowels.\n"
     ]
    }
   ],
   "source": [
    "print(\"Enter sentence 1\")\n",
    "sen1=input()\n",
    "print(\"Enter sentence 2\")\n",
    "sen2=input()\n",
    "l1=len(sen1)\n",
    "l2=len(sen2)\n",
    "a1=sen1.count(\"a\")\n",
    "e1=sen1.count(\"e\")\n",
    "i1=sen1.count(\"i\")\n",
    "o1=sen1.count(\"o\")\n",
    "u1=sen1.count(\"u\")\n",
    "tot1=a1+e1+i1+o1+u1\n",
    "a2=sen2.count(\"a\")\n",
    "e2=sen2.count(\"e\")\n",
    "i2=sen2.count(\"i\")\n",
    "o2=sen2.count(\"o\")\n",
    "u2=sen2.count(\"u\")\n",
    "tot2=a2+e2+i2+o2+u2\n",
    "per1=round(100/l1*tot1,2)\n",
    "per2=round(100/l2*tot2,2)\n",
    "print(\"The percentage of vowels in sentence 1 is:\",per1)\n",
    "print(\"The percentage of vowels in sentence 2 is:\",per2)\n",
    "print(\"Sentence 1 has\",tot1,\"vowels.\")\n",
    "print(\"Sentence 2 has\",tot2,\"vowels.\")\n",
    "if(tot1<tot2):\n",
    "    print(\"Sentence 2 has more vowels.\")\n",
    "else:\n",
    "    print(\"Sentence 1 has more vowels.\")"
   ]
  },
  {
   "cell_type": "markdown",
   "id": "12905d11",
   "metadata": {},
   "source": [
    "### Problem 25"
   ]
  },
  {
   "cell_type": "markdown",
   "id": "d1e4819a",
   "metadata": {},
   "source": [
    "## print(\"Would you like some advice?\")\n",
    "var=str(input())\n",
    "if(var==\"Y\"):\n",
    "    print(\"Always remember where your towel is.\")\n",
    "elif(var==\"N\"):\n",
    "    print(\"Then, it's okay.\")\n",
    "elif(var!=\"Y\" or var!=\"N\"):\n",
    "    print(\"Sorry, you were asked to enter Y or N.\")\n",
    "else:\n",
    "    print(\"Invalid entry.\")"
   ]
  },
  {
   "cell_type": "markdown",
   "id": "6cb80cd2",
   "metadata": {},
   "source": [
    "### Problem 26"
   ]
  },
  {
   "cell_type": "code",
   "execution_count": 64,
   "id": "0885188e",
   "metadata": {},
   "outputs": [
    {
     "name": "stdout",
     "output_type": "stream",
     "text": [
      "Please enter the test speed(mph).\n",
      "50\n",
      "Please enter the tested stopping distance(m).\n",
      "39.7\n",
      "Your car failed the breaking distance test.\n"
     ]
    }
   ],
   "source": [
    "print(\"Please enter the test speed(mph).\")\n",
    "spd=int(input())\n",
    "print(\"Please enter the tested stopping distance(m).\")\n",
    "dis=round(float(input()))\n",
    "if(spd==30):\n",
    "    if(dis<=14):\n",
    "        print(\"Your car passed the breaking distance test.\")\n",
    "    else:\n",
    "        print(\"Your car failed the breaking distance test.\")\n",
    "elif(spd==50):\n",
    "    if(dis<=38):\n",
    "        print(\"Your car passed the breaking distance test.\")\n",
    "    else:\n",
    "        print(\"Your car failed the breaking distance test.\")\n",
    "else:\n",
    "    print(\"Invalid testing speed.\")"
   ]
  },
  {
   "cell_type": "markdown",
   "id": "6bdba2d1",
   "metadata": {},
   "source": [
    "### Problem 27"
   ]
  },
  {
   "cell_type": "code",
   "execution_count": 65,
   "id": "3a89ad62",
   "metadata": {},
   "outputs": [
    {
     "name": "stdout",
     "output_type": "stream",
     "text": [
      "Please enter the first amount raised.\n",
      "740\n",
      "Please enter the second amount raised.\n",
      "690\n",
      "Please enter the third amount raised.\n",
      "1024\n",
      "A total of $ 2454 was raised.\n",
      "With the company bonus, this is $ 4454\n"
     ]
    }
   ],
   "source": [
    "print(\"Please enter the first amount raised.\")\n",
    "amt1=int(input())\n",
    "print(\"Please enter the second amount raised.\")\n",
    "amt2=int(input())\n",
    "print(\"Please enter the third amount raised.\")\n",
    "amt3=int(input())\n",
    "tot=amt1+amt2+amt3\n",
    "print(\"A total of $\",tot,\"was raised.\")\n",
    "if(tot<1000):\n",
    "    tot1=tot+100\n",
    "    print(\"With the company bonus, this is $\",tot1)\n",
    "elif(tot>1000 and tot<2000):\n",
    "    tot1=tot*2\n",
    "    print(\"With the company bonus, this is $\",tot1)\n",
    "elif(tot>2000):\n",
    "    tem=tot-2000\n",
    "    tot1=2*2000+tem\n",
    "    print(\"With the company bonus, this is $\",tot1)\n",
    "else:\n",
    "    print(\"Invalid entry.\")"
   ]
  },
  {
   "cell_type": "markdown",
   "id": "f6a9ded6",
   "metadata": {},
   "source": [
    "### Problem 28"
   ]
  },
  {
   "cell_type": "code",
   "execution_count": 66,
   "id": "1d71668c",
   "metadata": {},
   "outputs": [
    {
     "name": "stdout",
     "output_type": "stream",
     "text": [
      "Which sentence would you like copied?\n",
      "Don't behave like a muppet in class\n",
      "Don't behave like a muppet in class\n",
      "Don't behave like a muppet in class\n",
      "Don't behave like a muppet in class\n",
      "Don't behave like a muppet in class\n",
      "Don't behave like a muppet in class\n",
      "Don't behave like a muppet in class\n",
      "Don't behave like a muppet in class\n",
      "Don't behave like a muppet in class\n",
      "Don't behave like a muppet in class\n",
      "Don't behave like a muppet in class\n",
      "Don't behave like a muppet in class\n",
      "Don't behave like a muppet in class\n",
      "Don't behave like a muppet in class\n",
      "Don't behave like a muppet in class\n",
      "Don't behave like a muppet in class\n",
      "Don't behave like a muppet in class\n",
      "Don't behave like a muppet in class\n",
      "Don't behave like a muppet in class\n",
      "Don't behave like a muppet in class\n",
      "Don't behave like a muppet in class\n"
     ]
    }
   ],
   "source": [
    "print(\"Which sentence would you like copied?\")\n",
    "sen=input()\n",
    "for loop in range(20):\n",
    "    print(sen)"
   ]
  },
  {
   "cell_type": "markdown",
   "id": "b3208741",
   "metadata": {},
   "source": [
    "### Problem 29"
   ]
  },
  {
   "cell_type": "code",
   "execution_count": 69,
   "id": "2b6d572a",
   "metadata": {},
   "outputs": [
    {
     "name": "stdout",
     "output_type": "stream",
     "text": [
      "Please enter the first amount raised.\n",
      "398\n",
      "Please enter the second amount raised.\n",
      "193\n",
      "Please enter the third amount raised.\n",
      "478\n",
      "A total of $ 1069 was raised.\n",
      "This will be doubled to:\n",
      "$ 2138 !!!\n",
      "$ 2138 !!!\n",
      "$ 2138 !!!\n"
     ]
    }
   ],
   "source": [
    "print(\"Please enter the first amount raised.\")\n",
    "amt1=int(input())\n",
    "print(\"Please enter the second amount raised.\")\n",
    "amt2=int(input())\n",
    "print(\"Please enter the third amount raised.\")\n",
    "amt3=int(input())\n",
    "tot=amt1+amt2+amt3\n",
    "print(\"A total of $\",tot,\"was raised.\")\n",
    "if(tot<1000):\n",
    "    tot1=tot+100\n",
    "    print(\"With the company bonus, this is\")\n",
    "    for loop in range(3):\n",
    "        print(\"$\",tot1,\"!!!\")\n",
    "elif(tot>1000 and tot<2000):\n",
    "    tot1=tot*2\n",
    "    print(\"This will be doubled to:\")\n",
    "    for loop in range(3):\n",
    "        print(\"$\",tot1,\"!!!\")\n",
    "elif(tot>2000):\n",
    "    tem=tot-2000\n",
    "    tot1=2*2000+tem\n",
    "    print(\"With the company bonus, this is\")\n",
    "    for loop in range(3):\n",
    "        print(\"$\",tot1,\"!!!\")\n",
    "else:\n",
    "    print(\"Invalid entry.\")"
   ]
  },
  {
   "cell_type": "markdown",
   "id": "9649a063",
   "metadata": {},
   "source": [
    "### Problem 30"
   ]
  },
  {
   "cell_type": "code",
   "execution_count": 70,
   "id": "28768d45",
   "metadata": {},
   "outputs": [
    {
     "name": "stdout",
     "output_type": "stream",
     "text": [
      "Please enter first name:\n",
      "Matt\n",
      "Please enter surname:\n",
      "Reid\n",
      "M R MATT reid MattReid\n",
      "MattReid REID matt r m\n",
      "M R MATT reid MattReid\n",
      "MattReid REID matt r m\n",
      "M R MATT reid MattReid\n",
      "MattReid REID matt r m\n"
     ]
    }
   ],
   "source": [
    "print(\"Please enter first name:\")\n",
    "sen1=input()\n",
    "print(\"Please enter surname:\")\n",
    "sen2=input()\n",
    "s=sen1[0:1]\n",
    "f=sen2[0:1]\n",
    "for loop in range(3):\n",
    "    print(s.upper(),f.upper(),sen1.upper(),sen2.lower(),sen1+sen2)\n",
    "    print(sen1+sen2,sen2.upper(),sen1.lower(),f.lower(),s.lower())"
   ]
  },
  {
   "cell_type": "markdown",
   "id": "6ed82eb9",
   "metadata": {},
   "source": [
    "### Problem 31"
   ]
  },
  {
   "cell_type": "code",
   "execution_count": 74,
   "id": "65dd42bf",
   "metadata": {},
   "outputs": [
    {
     "name": "stdout",
     "output_type": "stream",
     "text": [
      "Please enter the score for each ball.\n",
      "0\n",
      "2\n",
      "0\n",
      "0\n",
      "4\n",
      "6\n",
      "This over's score was: 12\n"
     ]
    }
   ],
   "source": [
    "print(\"Please enter the score for each ball.\")\n",
    "tot=0\n",
    "for ball in range(6):\n",
    "    run=int(input())\n",
    "    tot=tot+run\n",
    "print(\"This over's score was:\",tot)"
   ]
  },
  {
   "cell_type": "markdown",
   "id": "fe1d2e4f",
   "metadata": {},
   "source": [
    "### Problem 32"
   ]
  },
  {
   "cell_type": "code",
   "execution_count": 76,
   "id": "b5cd217b",
   "metadata": {},
   "outputs": [
    {
     "name": "stdout",
     "output_type": "stream",
     "text": [
      "Please enter the seven temperatures.\n",
      "12\n",
      "14\n",
      "7\n",
      "6\n",
      "7\n",
      "11\n",
      "11\n",
      "This week's average was: 9.71 degrees centigrade\n"
     ]
    }
   ],
   "source": [
    "print(\"Please enter the seven temperatures.\")\n",
    "tot_temp=0\n",
    "for loop in range(7):\n",
    "    temp=float(input())\n",
    "    tot_temp=tot_temp+temp\n",
    "avg=tot_temp/7\n",
    "print(\"This week's average was:\",round(avg,2),\"degrees centigrade\")"
   ]
  },
  {
   "cell_type": "markdown",
   "id": "6b9fd294",
   "metadata": {},
   "source": [
    "### Problem 33"
   ]
  },
  {
   "cell_type": "code",
   "execution_count": 78,
   "id": "0d80b886",
   "metadata": {},
   "outputs": [
    {
     "name": "stdout",
     "output_type": "stream",
     "text": [
      "Which sentence would you like copied?\n",
      "Mr Reid is the best teacher.\n",
      "How many times would you like this copied?\n",
      "54\n",
      "Mr Reid is the best teacher.\n",
      "Mr Reid is the best teacher.\n",
      "Mr Reid is the best teacher.\n",
      "Mr Reid is the best teacher.\n",
      "Mr Reid is the best teacher.\n",
      "Mr Reid is the best teacher.\n",
      "Mr Reid is the best teacher.\n",
      "Mr Reid is the best teacher.\n",
      "Mr Reid is the best teacher.\n",
      "Mr Reid is the best teacher.\n",
      "Mr Reid is the best teacher.\n",
      "Mr Reid is the best teacher.\n",
      "Mr Reid is the best teacher.\n",
      "Mr Reid is the best teacher.\n",
      "Mr Reid is the best teacher.\n",
      "Mr Reid is the best teacher.\n",
      "Mr Reid is the best teacher.\n",
      "Mr Reid is the best teacher.\n",
      "Mr Reid is the best teacher.\n",
      "Mr Reid is the best teacher.\n",
      "Mr Reid is the best teacher.\n",
      "Mr Reid is the best teacher.\n",
      "Mr Reid is the best teacher.\n",
      "Mr Reid is the best teacher.\n",
      "Mr Reid is the best teacher.\n",
      "Mr Reid is the best teacher.\n",
      "Mr Reid is the best teacher.\n",
      "Mr Reid is the best teacher.\n",
      "Mr Reid is the best teacher.\n",
      "Mr Reid is the best teacher.\n",
      "Mr Reid is the best teacher.\n",
      "Mr Reid is the best teacher.\n",
      "Mr Reid is the best teacher.\n",
      "Mr Reid is the best teacher.\n",
      "Mr Reid is the best teacher.\n",
      "Mr Reid is the best teacher.\n",
      "Mr Reid is the best teacher.\n",
      "Mr Reid is the best teacher.\n",
      "Mr Reid is the best teacher.\n",
      "Mr Reid is the best teacher.\n",
      "Mr Reid is the best teacher.\n",
      "Mr Reid is the best teacher.\n",
      "Mr Reid is the best teacher.\n",
      "Mr Reid is the best teacher.\n",
      "Mr Reid is the best teacher.\n",
      "Mr Reid is the best teacher.\n",
      "Mr Reid is the best teacher.\n",
      "Mr Reid is the best teacher.\n",
      "Mr Reid is the best teacher.\n",
      "Mr Reid is the best teacher.\n",
      "Mr Reid is the best teacher.\n",
      "Mr Reid is the best teacher.\n",
      "Mr Reid is the best teacher.\n",
      "Mr Reid is the best teacher.\n"
     ]
    }
   ],
   "source": [
    "print(\"Which sentence would you like copied?\")\n",
    "sen=input()\n",
    "print(\"How many times would you like this copied?\")\n",
    "num=int(input())\n",
    "for loop in range(num):\n",
    "    print(sen)"
   ]
  },
  {
   "cell_type": "markdown",
   "id": "0e6565e4",
   "metadata": {},
   "source": [
    "### Problem 34"
   ]
  },
  {
   "cell_type": "code",
   "execution_count": 80,
   "id": "5772fac7",
   "metadata": {},
   "outputs": [
    {
     "name": "stdout",
     "output_type": "stream",
     "text": [
      "How many charity raisers were there?\n",
      "6\n",
      "Enter the total raised by each:\n",
      "238\n",
      "624\n",
      "546\n",
      "333\n",
      "651\n",
      "174\n",
      "A total of $ 2566 was raised.\n",
      "This will be increased to:\n",
      "$ 4566 !!!\n",
      "$ 4566 !!!\n",
      "$ 4566 !!!\n"
     ]
    }
   ],
   "source": [
    "print(\"How many charity raisers were there?\")\n",
    "num=int(input())\n",
    "tot=0\n",
    "print(\"Enter the total raised by each:\")\n",
    "for loop in range(num):\n",
    "    amt=int(input())\n",
    "    tot=tot+amt\n",
    "print(\"A total of $\",tot,\"was raised.\")\n",
    "if(tot<1000):\n",
    "    tot1=tot+100\n",
    "    print(\"This will be increased to:\")\n",
    "    for loop in range(3):\n",
    "        print(\"$\",tot1,\"!!!\")\n",
    "elif(tot>1000 and tot<2000):\n",
    "    tot1=tot*2\n",
    "    print(\"This will be doubled to:\")\n",
    "    for loop in range(3):\n",
    "        print(\"$\",tot1,\"!!!\")\n",
    "elif(tot>2000):\n",
    "    tem=tot-2000\n",
    "    tot1=2*2000+tem\n",
    "    print(\"This will be increased to:\")\n",
    "    for loop in range(3):\n",
    "        print(\"$\",tot1,\"!!!\")\n",
    "else:\n",
    "    print(\"Invalid entry.\")"
   ]
  },
  {
   "cell_type": "markdown",
   "id": "af0de6d4",
   "metadata": {},
   "source": [
    "### Problem 35"
   ]
  },
  {
   "cell_type": "code",
   "execution_count": 82,
   "id": "57157f5a",
   "metadata": {},
   "outputs": [
    {
     "name": "stdout",
     "output_type": "stream",
     "text": [
      "Please enter the number of students:\n",
      "3\n",
      "Enter the time in seconds for each student.\n",
      "Student 1\n",
      "82\n",
      "Student 2\n",
      "67\n",
      "Student 3\n",
      "45\n",
      "The average time taken for 3 students was:\n",
      "64.67 seconds\n"
     ]
    }
   ],
   "source": [
    "print(\"Please enter the number of students:\")\n",
    "std=int(input())\n",
    "tot=0\n",
    "print(\"Enter the time in seconds for each student.\")\n",
    "for tim in range(std):\n",
    "    print(\"Student\",tim+1)\n",
    "    tim_t=float(input())\n",
    "    tot=tot+tim_t\n",
    "avg=round(tot/std,2)\n",
    "print(\"The average time taken for\",std,\"students was:\")\n",
    "print(avg,\"seconds\")"
   ]
  },
  {
   "cell_type": "markdown",
   "id": "d623822c",
   "metadata": {},
   "source": [
    "### Problem 36"
   ]
  },
  {
   "cell_type": "code",
   "execution_count": 84,
   "id": "5c748330",
   "metadata": {},
   "outputs": [
    {
     "name": "stdout",
     "output_type": "stream",
     "text": [
      "Odd Number List\n",
      "1\n",
      "3\n",
      "5\n",
      "7\n",
      "9\n",
      "11\n"
     ]
    }
   ],
   "source": [
    "print(\"Odd Number List\")\n",
    "for num in range(1,12,2):\n",
    "        print(num)"
   ]
  },
  {
   "cell_type": "markdown",
   "id": "da842ed4",
   "metadata": {},
   "source": [
    "### Problem 37"
   ]
  },
  {
   "cell_type": "code",
   "execution_count": 85,
   "id": "b8949365",
   "metadata": {},
   "outputs": [
    {
     "name": "stdout",
     "output_type": "stream",
     "text": [
      "The following program will display odd numbers.\n",
      "Enter the first number in the list\n",
      "5\n",
      "Enter the last number in the list\n",
      "13\n",
      "Odd Number List\n",
      "5\n",
      "7\n",
      "9\n",
      "11\n",
      "13\n"
     ]
    }
   ],
   "source": [
    "print(\"The following program will display odd numbers.\")\n",
    "print(\"Enter the first number in the list\")\n",
    "n=int(input())\n",
    "print(\"Enter the last number in the list\")\n",
    "m=int(input())\n",
    "print(\"Odd Number List\")\n",
    "for num in range(n,m+1,2):\n",
    "        print(num)"
   ]
  },
  {
   "cell_type": "markdown",
   "id": "c0c8d08f",
   "metadata": {},
   "source": [
    "### Problem 38"
   ]
  },
  {
   "cell_type": "code",
   "execution_count": 6,
   "id": "975f5a79",
   "metadata": {},
   "outputs": [
    {
     "name": "stdout",
     "output_type": "stream",
     "text": [
      "Please enter the password.\n",
      "snool\n",
      "Sorry, incorrect! Try again.\n",
      "Please enter the password.\n",
      "ornery\n",
      "Entry gained!\n"
     ]
    }
   ],
   "source": [
    "n=0\n",
    "while n==0:\n",
    "    print(\"Please enter the password.\")\n",
    "    pin=input()\n",
    "    if(pin==\"ornery\"):\n",
    "        print(\"Entry gained!\")\n",
    "        break\n",
    "    else:\n",
    "        print(\"Sorry, incorrect! Try again.\")\n",
    "        continue"
   ]
  },
  {
   "cell_type": "markdown",
   "id": "d0677074",
   "metadata": {},
   "source": [
    "### Problem 39"
   ]
  },
  {
   "cell_type": "code",
   "execution_count": 8,
   "id": "1f6c75e3",
   "metadata": {},
   "outputs": [
    {
     "name": "stdout",
     "output_type": "stream",
     "text": [
      "The following program will display odd numbers.\n",
      "Enter the first number in the list\n",
      "5\n",
      "Enter the last number in the list\n",
      "17\n",
      "Sorry, the number atleast 5 + 20\n",
      "Please re-enter the number.\n",
      "27\n",
      "Odd Number List\n",
      "5\n",
      "7\n",
      "9\n",
      "11\n",
      "13\n",
      "15\n",
      "17\n",
      "19\n",
      "21\n",
      "23\n",
      "25\n"
     ]
    }
   ],
   "source": [
    "print(\"The following program will display odd numbers.\")\n",
    "print(\"Enter the first number in the list\")\n",
    "n=int(input())\n",
    "print(\"Enter the last number in the list\")\n",
    "while n>0:\n",
    "    m=int(input())\n",
    "    if(m<n+20):\n",
    "        print(\"Sorry, the number atleast\",n,\"+\",20)\n",
    "        print(\"Please re-enter the number.\")\n",
    "        continue\n",
    "    break\n",
    "print(\"Odd Number List\")\n",
    "for num in range(n,m,2):\n",
    "        print(num)"
   ]
  },
  {
   "cell_type": "markdown",
   "id": "1db3cc6c",
   "metadata": {},
   "source": [
    "### Problem 40"
   ]
  },
  {
   "cell_type": "code",
   "execution_count": 11,
   "id": "f8b5af2c",
   "metadata": {},
   "outputs": [
    {
     "name": "stdout",
     "output_type": "stream",
     "text": [
      "Would you like some advice?\n",
      "H\n",
      "Please enter Y or N only.\n",
      "Would you like some advice?\n",
      "N\n",
      "Don't be silly. You definitely need advice!\n",
      "Would you like some advice?\n",
      "Y\n",
      "Don't feed trolls!\n"
     ]
    }
   ],
   "source": [
    "n=0\n",
    "while n==0:\n",
    "    print(\"Would you like some advice?\")\n",
    "    var=str(input())\n",
    "    if(var==\"Y\"):\n",
    "        print(\"Don't feed trolls!\")\n",
    "        break    \n",
    "    elif(var==\"N\"):\n",
    "        print(\"Don't be silly. You definitely need advice!\")\n",
    "        continue\n",
    "    elif(var!=\"Y\" or var!=\"N\"):\n",
    "        print(\"Please enter Y or N only.\")\n",
    "        continue\n",
    "    else:\n",
    "        print(\"Invalid entry.\")"
   ]
  },
  {
   "cell_type": "markdown",
   "id": "cba2f554",
   "metadata": {},
   "source": [
    "### Problem 41"
   ]
  },
  {
   "cell_type": "code",
   "execution_count": 13,
   "id": "66abab2c",
   "metadata": {},
   "outputs": [
    {
     "name": "stdout",
     "output_type": "stream",
     "text": [
      "Please enter the price of each present:\n",
      "35\n",
      "100\n",
      "50\n",
      "45\n",
      "Limit exceeded.\n",
      "You can't include $ 45 present.\n"
     ]
    }
   ],
   "source": [
    "print(\"Please enter the price of each present:\")\n",
    "n=0\n",
    "tot=0\n",
    "while n==0:\n",
    "    cost=int(input())\n",
    "    tot=tot+cost\n",
    "    if(tot>200):\n",
    "        print(\"Limit exceeded.\")\n",
    "        print(\"You can't include $\",cost,\"present.\")\n",
    "        break\n",
    "    else:\n",
    "        continue"
   ]
  },
  {
   "cell_type": "markdown",
   "id": "7954f8fa",
   "metadata": {},
   "source": [
    "### Problem 42"
   ]
  },
  {
   "cell_type": "code",
   "execution_count": 15,
   "id": "52da2ce2",
   "metadata": {},
   "outputs": [
    {
     "name": "stdout",
     "output_type": "stream",
     "text": [
      "Enter your menu choice (Q, A, K or L)\n",
      "V\n",
      "V is not valid. Enter Q, A, K or L.\n",
      "L\n",
      "L selected.\n"
     ]
    }
   ],
   "source": [
    "n=0\n",
    "print(\"Enter your menu choice (Q, A, K or L)\")\n",
    "while n==0:\n",
    "    ch=input()\n",
    "    if(ch==\"A\" or ch==\"a\"):\n",
    "        print(\"A selected.\")\n",
    "        break\n",
    "    elif(ch==\"Q\" or ch==\"q\"):\n",
    "        print(\"Q selected.\")\n",
    "        break\n",
    "    elif(ch==\"K\" or ch==\"k\"):\n",
    "        print(\"K selected.\")\n",
    "        break\n",
    "    elif(ch==\"L\" or ch==\"l\"):\n",
    "        print(\"L selected.\")\n",
    "        break\n",
    "    else:\n",
    "        print(ch,\"is not valid. Enter Q, A, K or L.\")\n",
    "        continue"
   ]
  },
  {
   "cell_type": "markdown",
   "id": "a9008618",
   "metadata": {},
   "source": [
    "### Problem 43"
   ]
  },
  {
   "cell_type": "code",
   "execution_count": 18,
   "id": "b75fe6d0",
   "metadata": {},
   "outputs": [
    {
     "name": "stdout",
     "output_type": "stream",
     "text": [
      "Guess the hidden number between 1 and 100.\n",
      "Enter your guess.\n",
      "112\n",
      "Your guess is not valid. Enter it again.\n",
      "67\n",
      "Your guess is too low. Try again.\n",
      "68\n",
      "Your guess is too low. Try again.\n",
      "70\n",
      "Your guess is too low. Try again.\n",
      "75\n",
      "Your guess is too low. Try again.\n",
      "80\n",
      "Your guess is too low. Try again.\n",
      "85\n",
      "Your guess is too low. Try again.\n",
      "95\n",
      "Your guess is too high. Try again.\n",
      "92\n",
      "Your guess is too low. Try again.\n",
      "93\n",
      "Your guess is too low. Try again.\n",
      "94\n",
      "Correct! Well Done.\n"
     ]
    }
   ],
   "source": [
    "import random\n",
    "num=random.randint(1,100)\n",
    "print(\"Guess the hidden number between 1 and 100.\")\n",
    "print(\"Enter your guess.\")\n",
    "while num>=1 and num<=100:\n",
    "    num1=int(input())\n",
    "    if num1<1 or num1>100:\n",
    "        print(\"Your guess is not valid. Enter it again.\")\n",
    "        continue\n",
    "    elif num1>num:\n",
    "        print(\"Your guess is too high. Try again.\")\n",
    "        continue\n",
    "    elif num1<num:\n",
    "        print(\"Your guess is too low. Try again.\")\n",
    "        continue\n",
    "    else:\n",
    "        print(\"Correct! Well Done.\")\n",
    "        break"
   ]
  },
  {
   "cell_type": "markdown",
   "id": "918d8891",
   "metadata": {},
   "source": [
    "### Problem 44"
   ]
  },
  {
   "cell_type": "code",
   "execution_count": 26,
   "id": "03dad237",
   "metadata": {},
   "outputs": [
    {
     "name": "stdout",
     "output_type": "stream",
     "text": [
      "Week 1\n",
      "Please enter the seven temperatures.\n",
      "12\n",
      "14\n",
      "7\n",
      "6\n",
      "66\n",
      "Temperature should be between -40 and 55\n",
      "7\n",
      "11\n",
      "11\n",
      "Week 2\n",
      "Please enter the seven temperatures.\n",
      "5\n",
      "5\n",
      "5\n",
      "5\n",
      "5\n",
      "5\n",
      "5\n",
      "Week 3\n",
      "Please enter the seven temperatures.\n",
      "5\n",
      "5\n",
      "5\n",
      "5\n",
      "5\n",
      "5\n",
      "5\n",
      "Week 4\n",
      "Please enter the seven temperatures.\n",
      "5\n",
      "5\n",
      "5\n",
      "5\n",
      "5\n",
      "5\n",
      "5\n",
      "Week 1 average temperature was: 9.71 degrees centigrade.\n",
      "Week 2 average temperature was: 5.0 degrees centigrade.\n",
      "Week 3 average temperature was: 5.0 degrees centigrade.\n",
      "Week 4 average temperature was: 5.0 degrees centigrade.\n"
     ]
    }
   ],
   "source": [
    "list_avg=[0.00]*4\n",
    "for i in range(4):\n",
    "    print(\"Week\",i+1)\n",
    "    print(\"Please enter the seven temperatures.\")\n",
    "    tot_temp=0\n",
    "    for j in range(7):\n",
    "        temp=float(input())\n",
    "        if temp<-40 or temp>55:\n",
    "            print(\"Temperature should be between -40 and 55\")\n",
    "            temp=float(input())\n",
    "        tot_temp=tot_temp+temp\n",
    "        avg_temp=round(tot_temp/7,2)\n",
    "    list_avg[i]=avg_temp\n",
    "for k in range(4):\n",
    "    print(\"Week\",k+1,\"average temperature was:\",list_avg[k],\"degrees centigrade.\")"
   ]
  },
  {
   "cell_type": "markdown",
   "id": "41947fb1",
   "metadata": {},
   "source": [
    "### Problem 45"
   ]
  },
  {
   "cell_type": "code",
   "execution_count": 29,
   "id": "6420b913",
   "metadata": {},
   "outputs": [
    {
     "name": "stdout",
     "output_type": "stream",
     "text": [
      "Please enter the score of player one.\n",
      "34\n",
      "26\n",
      "200\n",
      "Invalid score.\n",
      "100\n",
      "Please enter the score of player two.\n",
      "78\n",
      "80\n",
      "97\n",
      "Player two scored the highest individual score.\n",
      "Player two wins!!\n"
     ]
    }
   ],
   "source": [
    "print(\"Please enter the score of player one.\")\n",
    "tot1=0\n",
    "for i in range(3):\n",
    "    s1=int(input())\n",
    "    if s1<0 or s1>180:\n",
    "        print(\"Invalid score.\")\n",
    "        s1=int(input())\n",
    "    tot1=tot1+s1\n",
    "print(\"Please enter the score of player two.\")\n",
    "tot2=0\n",
    "for i in range(3):\n",
    "    s2=int(input())\n",
    "    if s2<0 or s2>180:\n",
    "        print(\"Invalid score.\")\n",
    "        s2=int(input())\n",
    "    tot2=tot2+s2\n",
    "if tot1>tot2:\n",
    "    print(\"Player one scored the highest individual score.\")\n",
    "    print(\"Player one wins!!\")\n",
    "else:\n",
    "    print(\"Player two scored the highest individual score.\")\n",
    "    print(\"Player two wins!!\")"
   ]
  },
  {
   "cell_type": "markdown",
   "id": "c613ded3",
   "metadata": {},
   "source": [
    "### Problem 46"
   ]
  },
  {
   "cell_type": "code",
   "execution_count": 4,
   "id": "2a29eda1",
   "metadata": {},
   "outputs": [
    {
     "name": "stdout",
     "output_type": "stream",
     "text": [
      "Mountain Bike\n",
      "Ski Jacket\n",
      "Electric Guitar\n",
      "PS3 - 500Gb\n",
      "Badminton Racquet\n"
     ]
    }
   ],
   "source": [
    "items=[\"Mountain Bike\",\"Ski Jacket\",\"Electric Guitar\",\"PS3 - 500Gb\",\"Badminton Racquet\"]\n",
    "for loop in range(5):\n",
    "    print(items[loop])"
   ]
  },
  {
   "cell_type": "markdown",
   "id": "1336d4da",
   "metadata": {},
   "source": [
    "### Problem 47"
   ]
  },
  {
   "cell_type": "code",
   "execution_count": 3,
   "id": "fadffb09",
   "metadata": {},
   "outputs": [
    {
     "name": "stdout",
     "output_type": "stream",
     "text": [
      "Mountain Bike - $200\n",
      "Ski Jacket - $67\n",
      "Electric Guitar - $330\n",
      "PS3 - 500Gb - $120\n",
      "Badminton Racquet - $15\n"
     ]
    }
   ],
   "source": [
    "items=[\"Mountain Bike\",\"Ski Jacket\",\"Electric Guitar\",\"PS3 - 500Gb\",\"Badminton Racquet\"]\n",
    "price=[\"$200\",\"$67\",\"$330\",\"$120\",\"$15\"]\n",
    "for loop in range(5):\n",
    "    print(items[loop],\"-\",price[loop])"
   ]
  },
  {
   "cell_type": "markdown",
   "id": "24fe8f5e",
   "metadata": {},
   "source": [
    "### Problem 48"
   ]
  },
  {
   "cell_type": "code",
   "execution_count": 5,
   "id": "3f548f02",
   "metadata": {},
   "outputs": [
    {
     "name": "stdout",
     "output_type": "stream",
     "text": [
      "Please enter the score for each ball.\n",
      "0\n",
      "2\n",
      "0\n",
      "0\n",
      "4\n",
      "6\n",
      "This over's score was: 12\n",
      "With each ball scoring:\n",
      "0\n",
      "2\n",
      "0\n",
      "0\n",
      "4\n",
      "6\n"
     ]
    }
   ],
   "source": [
    "runs=[0]*6\n",
    "tot=0\n",
    "print(\"Please enter the score for each ball.\")\n",
    "for i in range(6):\n",
    "    run=int(input())\n",
    "    tot=tot+run\n",
    "    runs[i]=run\n",
    "print(\"This over's score was:\",tot)\n",
    "print(\"With each ball scoring:\")\n",
    "for k in range(6):\n",
    "    print(runs[k])"
   ]
  },
  {
   "cell_type": "markdown",
   "id": "18429ba2",
   "metadata": {},
   "source": [
    "### Problem 49"
   ]
  },
  {
   "cell_type": "code",
   "execution_count": 7,
   "id": "3250b316",
   "metadata": {},
   "outputs": [
    {
     "name": "stdout",
     "output_type": "stream",
     "text": [
      "Please enter a name:\n",
      "Jean Gray\n",
      "Please enter Jean Gray 's age:\n",
      "13\n",
      "Please enter a name:\n",
      "Max Eisenhardt\n",
      "Please enter Max Eisenhardt 's age:\n",
      "24\n",
      "Please enter a name:\n",
      "James Howlett\n",
      "Please enter James Howlett 's age:\n",
      "15\n",
      "Please enter a name:\n",
      "Aleksy Nowak\n",
      "Please enter Aleksy Nowak 's age:\n",
      "9\n",
      "Names and Competition List:\n",
      "Jean Gray - Teen\n",
      "Max Eisenhardt - Senior\n",
      "James Howlett - Teen\n",
      "Aleksy Nowak - Junior\n"
     ]
    }
   ],
   "source": [
    "names=[\"\"]*4\n",
    "age_grp=[\"\"]*4\n",
    "for i in range(4):\n",
    "    print(\"Please enter a name:\")\n",
    "    nam=input()\n",
    "    print(\"Please enter\",nam,\"'s age:\")\n",
    "    ag=int(input())\n",
    "    names[i]=nam\n",
    "    if ag<12:\n",
    "        age_grp[i]=\"Junior\"\n",
    "    elif ag>=12 and ag<=17:\n",
    "        age_grp[i]=\"Teen\"\n",
    "    elif ag>=18:\n",
    "        age_grp[i]=\"Senior\"\n",
    "    else:\n",
    "        age_grp[i]=\"Invalid age\"\n",
    "print(\"Names and Competition List:\")\n",
    "for k in range(4):\n",
    "    print(names[k],\"-\",age_grp[k])"
   ]
  },
  {
   "cell_type": "markdown",
   "id": "908b9e3b",
   "metadata": {},
   "source": [
    "### Problem 50"
   ]
  },
  {
   "cell_type": "code",
   "execution_count": 8,
   "id": "55a1f33a",
   "metadata": {},
   "outputs": [
    {
     "name": "stdout",
     "output_type": "stream",
     "text": [
      "Please enter the details of your horse.\n",
      "Maximum height:\n",
      "16\n",
      "Maximum age:\n",
      "15\n",
      "Suitable horses are:\n",
      "['Black Beauty', '14 years', '15 Hands']\n",
      "['Francine', '8 years', '14 hands']\n",
      "['Langrish', '15 years', '14 Hands']\n"
     ]
    }
   ],
   "source": [
    "hors=[[\"Black Beauty\",\"14 years\",\"15 Hands\"],[\"Francine\",\"8 years\",\"14 hands\"],[\"Langrish\",\"15 years\",\"14 Hands\"]]\n",
    "print(\"Please enter the details of your horse.\")\n",
    "print(\"Maximum height:\")\n",
    "max_h=int(input())\n",
    "print(\"Maximum age:\")\n",
    "max_age=int(input())\n",
    "if max_h==16 and max_age==15:\n",
    "    print(\"Suitable horses are:\")\n",
    "    for i in range(3):\n",
    "        print(hors[i])"
   ]
  },
  {
   "cell_type": "markdown",
   "id": "b721474f",
   "metadata": {},
   "source": [
    "### Problem 51"
   ]
  },
  {
   "cell_type": "code",
   "execution_count": 24,
   "id": "3a4c120b",
   "metadata": {},
   "outputs": [
    {
     "name": "stdout",
     "output_type": "stream",
     "text": [
      "House floor area calculator\n",
      "Please enter the number of rooms:\n",
      "3\n",
      "Please enter the name of room 1 :\n",
      "Lounge\n",
      "Please enter the length (m) of room 1 :\n",
      "3.56\n",
      "Please enter the width (m) of room 1 :\n",
      "4.7\n",
      "Please enter the name of room 2 :\n",
      "Kitchen\n",
      "Please enter the length (m) of room 2 :\n",
      "2.26\n",
      "Please enter the width (m) of room 2 :\n",
      "3.69\n",
      "Please enter the name of room 3 :\n",
      "Bedroom\n",
      "Please enter the length (m) of room 3 :\n",
      "4.5\n",
      "Please enter the width (m) of room 3 :\n",
      "4.7\n",
      "House details:\n",
      "Room - Lounge\n",
      "16.7 metre square\n",
      "Room - Kitchen\n",
      "8.3 metre square\n",
      "Room - Bedroom\n",
      "21.2 metre square\n",
      "The total area is calculated as: 46.2 metre square.\n"
     ]
    }
   ],
   "source": [
    "print(\"House floor area calculator\")\n",
    "print(\"Please enter the number of rooms:\")\n",
    "n=int(input())\n",
    "rooms=[\"\"]*n\n",
    "ar=[0.00]*n\n",
    "tot=0\n",
    "for i in range(n):\n",
    "    print(\"Please enter the name of room\",i+1,\":\")\n",
    "    names=input()\n",
    "    print(\"Please enter the length (m) of room\",i+1,\":\")\n",
    "    l=float(input())\n",
    "    print(\"Please enter the width (m) of room\",i+1,\":\")\n",
    "    w=float(input())\n",
    "    area=round(l*w,1)\n",
    "    tot=tot+area\n",
    "    rooms[i]=names\n",
    "    ar[i]=area\n",
    "print(\"House details:\")\n",
    "for k in range(n):\n",
    "    print(\"Room -\",rooms[k])\n",
    "    print(ar[k],\"metre square\")\n",
    "print(\"The total area is calculated as:\",tot,\"metre square.\")"
   ]
  },
  {
   "cell_type": "markdown",
   "id": "7e6d3fdb",
   "metadata": {},
   "source": [
    "### Problem 52"
   ]
  },
  {
   "cell_type": "code",
   "execution_count": 28,
   "id": "1c248ced",
   "metadata": {},
   "outputs": [
    {
     "name": "stdout",
     "output_type": "stream",
     "text": [
      "Who's going?\n",
      "Melissa ?\n",
      "Y\n",
      "Evelyn ?\n",
      "Y\n",
      "Emmy ?\n",
      "N\n",
      "Karen ?\n",
      "N\n",
      "Norma ?\n",
      "Y\n",
      "Dorek ?\n",
      "Y\n",
      "Agnes ?\n",
      "N\n",
      "Billy ?\n",
      "Y\n",
      "Gawet ?\n",
      "Y\n",
      "Arthur ?\n",
      "N\n",
      "Party Attendance List:\n",
      "\n",
      "Melissa\n",
      "Evelyn\n",
      "Norma\n",
      "Dorek\n",
      "Billy\n",
      "Gawet\n"
     ]
    }
   ],
   "source": [
    "friends=[\"Melissa\",\"Evelyn\",\"Emmy\",\"Karen\",\"Norma\",\"Dorek\",\"Agnes\",\"Billy\",\"Gawet\",\"Arthur\"]\n",
    "guest=[\"\"]\n",
    "print(\"Who's going?\")\n",
    "for i in friends:\n",
    "    print(i,\"?\")\n",
    "    ch=input()\n",
    "    if ch==\"Y\":\n",
    "        guest.append(i)\n",
    "    if ch==\"N\":\n",
    "        continue\n",
    "print(\"Party Attendance List:\")\n",
    "for k in guest:\n",
    "    print(k)"
   ]
  },
  {
   "cell_type": "markdown",
   "id": "5fcf6525",
   "metadata": {},
   "source": [
    "### Problem 53"
   ]
  },
  {
   "cell_type": "code",
   "execution_count": 2,
   "id": "58b09472",
   "metadata": {},
   "outputs": [
    {
     "name": "stdout",
     "output_type": "stream",
     "text": [
      "How many members have requested a seat?\n",
      "5\n",
      "Please enter your name.\n",
      "Hubab\n",
      "Which row would you like to sit in?\n",
      "2\n",
      "Which seat number would you like to sit in?\n",
      "3\n",
      "Thank you, your name has been added.\n",
      "Please enter your name.\n",
      "Jessica\n",
      "Which row would you like to sit in?\n",
      "3\n",
      "Which seat number would you like to sit in?\n",
      "1\n",
      "Thank you, your name has been added.\n",
      "Please enter your name.\n",
      "Denzell\n",
      "Which row would you like to sit in?\n",
      "2\n",
      "Which seat number would you like to sit in?\n",
      "1\n",
      "Thank you, your name has been added.\n",
      "Please enter your name.\n",
      "Talisha\n",
      "Which row would you like to sit in?\n",
      "4\n",
      "Which seat number would you like to sit in?\n",
      "3\n",
      "Thank you, your name has been added.\n",
      "Please enter your name.\n",
      "Andrew\n",
      "Which row would you like to sit in?\n",
      "5\n",
      "Which seat number would you like to sit in?\n",
      "4\n",
      "Thank you, your name has been added.\n",
      "Bus seats have been booked as follows:\n",
      "Empty Empty Empty Empty \n",
      "Denzell Empty Hubab Empty \n",
      "Jessica Empty Empty Empty \n",
      "Empty Empty Talisha Empty \n",
      "Empty Empty Empty Andrew \n"
     ]
    }
   ],
   "source": [
    "seat=[[\"Empty\"]*4 for main in range(5)]\n",
    "print(\"How many members have requested a seat?\")\n",
    "n=int(input())\n",
    "for people in range(n):\n",
    "    print(\"Please enter your name.\")\n",
    "    nam=input()\n",
    "    print(\"Which row would you like to sit in?\")\n",
    "    ro=int(input())\n",
    "    print(\"Which seat number would you like to sit in?\")\n",
    "    st_no=int(input())\n",
    "    print(\"Thank you, your name has been added.\")\n",
    "    seat[ro-1][st_no-1]=nam\n",
    "print(\"Bus seats have been booked as follows:\")\n",
    "for j in range(5):\n",
    "    for k in range(4):\n",
    "        print(seat[j][k],\"\",end='')\n",
    "    print()"
   ]
  },
  {
   "cell_type": "markdown",
   "id": "370b45f6",
   "metadata": {},
   "source": [
    "### Problem 54"
   ]
  },
  {
   "cell_type": "code",
   "execution_count": 3,
   "id": "95dd7574",
   "metadata": {},
   "outputs": [
    {
     "name": "stdout",
     "output_type": "stream",
     "text": [
      "Please enter the number of weeds counted at 1,1:\n",
      "3\n",
      "Please enter the number of weeds counted at 1,2:\n",
      "0\n",
      "Please enter the number of weeds counted at 1,3:\n",
      "2\n",
      "Please enter the number of weeds counted at 1,4:\n",
      "2\n",
      "Please enter the number of weeds counted at 1,5:\n",
      "0\n",
      "Please enter the number of weeds counted at 2,1:\n",
      "2\n",
      "Please enter the number of weeds counted at 2,2:\n",
      "0\n",
      "Please enter the number of weeds counted at 2,3:\n",
      "0\n",
      "Please enter the number of weeds counted at 2,4:\n",
      "3\n",
      "Please enter the number of weeds counted at 2,5:\n",
      "2\n",
      "Please enter the number of weeds counted at 3,1:\n",
      "0\n",
      "Please enter the number of weeds counted at 3,2:\n",
      "10\n",
      "Please enter the number of weeds counted at 3,3:\n",
      "6\n",
      "Please enter the number of weeds counted at 3,4:\n",
      "5\n",
      "Please enter the number of weeds counted at 3,5:\n",
      "0\n",
      "Please enter the number of weeds counted at 4,1:\n",
      "1\n",
      "Please enter the number of weeds counted at 4,2:\n",
      "1\n",
      "Please enter the number of weeds counted at 4,3:\n",
      "2\n",
      "Please enter the number of weeds counted at 4,4:\n",
      "2\n",
      "Please enter the number of weeds counted at 4,5:\n",
      "7\n",
      "Please enter the number of weeds counted at 5,1:\n",
      "0\n",
      "Please enter the number of weeds counted at 5,2:\n",
      "0\n",
      "Please enter the number of weeds counted at 5,3:\n",
      "5\n",
      "Please enter the number of weeds counted at 5,4:\n",
      "3\n",
      "Please enter the number of weeds counted at 5,5:\n",
      "2\n",
      "The results are shown below:\n",
      "3 0 2 2 0 \n",
      "2 0 0 3 2 \n",
      "0 10 6 5 0 \n",
      "1 1 2 2 7 \n",
      "0 0 5 3 2 \n",
      "The total number of weeds found was- 58\n"
     ]
    }
   ],
   "source": [
    "pos=[[0]*5 for main in range(5)]\n",
    "tot=0\n",
    "for i in range(5):\n",
    "    for j in range(5):\n",
    "        print(\"Please enter the number of weeds counted at\",str(i+1)+\",\"+str(j+1)+\":\")\n",
    "        pos[i][j]=int(input())\n",
    "        tot+=pos[i][j]\n",
    "print(\"The results are shown below:\")\n",
    "for k in range(5):\n",
    "    for m in range(5):\n",
    "        print(pos[k][m],\"\",end='')\n",
    "    print()\n",
    "print(\"The total number of weeds found was-\",tot)"
   ]
  },
  {
   "cell_type": "markdown",
   "id": "a5009173",
   "metadata": {},
   "source": [
    "### Problem 55"
   ]
  },
  {
   "cell_type": "code",
   "execution_count": 1,
   "id": "dc1773e8",
   "metadata": {},
   "outputs": [
    {
     "name": "stdout",
     "output_type": "stream",
     "text": [
      "Please enter over 1 for Team 1\n",
      "1\n",
      "1\n",
      "1\n",
      "1\n",
      "1\n",
      "1\n",
      "Please enter over 2 for Team 1\n",
      "2\n",
      "2\n",
      "2\n",
      "2\n",
      "2\n",
      "2\n",
      "Please enter over 3 for Team 1\n",
      "1\n",
      "1\n",
      "3\n",
      "3\n",
      "3\n",
      "3\n",
      "Please enter over 1 for Team 2\n",
      "1\n",
      "1\n",
      "1\n",
      "1\n",
      "1\n",
      "1\n",
      "Please enter over 2 for Team 2\n",
      "1\n",
      "1\n",
      "1\n",
      "1\n",
      "1\n",
      "1\n",
      "Please enter over 3 for Team 2\n",
      "2\n",
      "2\n",
      "2\n",
      "2\n",
      "2\n",
      "2\n",
      "Score for Team 1's three overs:\n",
      "32\n",
      "Score for Team 2's three overs:\n",
      "24\n",
      "Team 1 won the match.\n",
      "Do you wish to calculate the result of another game?\n",
      "n\n"
     ]
    }
   ],
   "source": [
    "while True:\n",
    "    tot=[]\n",
    "    for k in range(2):\n",
    "        score=0\n",
    "        for i in range(3):\n",
    "            print(\"Please enter over\",i+1,\"for Team\",k+1)\n",
    "            total=0\n",
    "            for j in range(6):\n",
    "                run=int(input())\n",
    "                total=total+run\n",
    "            score=score+total\n",
    "        tot.append(score)\n",
    "    for n in range(2):\n",
    "        print(\"Score for Team\",str(n+1)+\"'s\",\"three overs:\")\n",
    "        print(tot[n])\n",
    "    if tot[0]<tot[1]:\n",
    "        print(\"Team 2 won the match.\")\n",
    "    elif tot[0]>tot[1]:\n",
    "        print(\"Team 1 won the match.\")\n",
    "    else:\n",
    "        print(\"Both teams tied in the match.\")\n",
    "    print(\"Do you wish to calculate the result of another game?\")\n",
    "    re=input()\n",
    "    if re==\"Y\" or re==\"y\":\n",
    "        continue\n",
    "    else:\n",
    "        break"
   ]
  },
  {
   "cell_type": "markdown",
   "id": "929fc9c1",
   "metadata": {},
   "source": [
    "### Problem 56"
   ]
  },
  {
   "cell_type": "code",
   "execution_count": 2,
   "id": "905852e0",
   "metadata": {},
   "outputs": [
    {
     "name": "stdout",
     "output_type": "stream",
     "text": [
      "Guess the hidden number between 1 and 100.\n",
      "Enter your guess.\n",
      "50\n",
      "Your guess is too high. Try again.\n",
      "45\n",
      "Your guess is too high. Try again.\n",
      "40\n",
      "Your guess is too high. Try again.\n",
      "30\n",
      "Your guess is too low. Try again.\n",
      "35\n",
      "Your guess is too low. Try again.\n",
      "36\n",
      "Correct! Well Done.\n"
     ]
    }
   ],
   "source": [
    "import random\n",
    "num=random.randint(1,100)\n",
    "print(\"Guess the hidden number between 1 and 100.\")\n",
    "print(\"Enter your guess.\")\n",
    "while num>=1 and num<=100:\n",
    "    num1=int(input())\n",
    "    if num1<1 or num1>100:\n",
    "        print(\"Your guess is not valid. Enter it again.\")\n",
    "        continue\n",
    "    elif num1>num:\n",
    "        print(\"Your guess is too high. Try again.\")\n",
    "        continue\n",
    "    elif num1<num:\n",
    "        print(\"Your guess is too low. Try again.\")\n",
    "        continue\n",
    "    else:\n",
    "        print(\"Correct! Well Done.\")\n",
    "        break"
   ]
  },
  {
   "cell_type": "markdown",
   "id": "f9da83e6",
   "metadata": {},
   "source": [
    "### Problem 57"
   ]
  },
  {
   "cell_type": "code",
   "execution_count": 1,
   "id": "b6232049",
   "metadata": {},
   "outputs": [
    {
     "name": "stdout",
     "output_type": "stream",
     "text": [
      "Please enter the donated comics:\n",
      "34,56,12,3\n",
      "Liam now owns issues:\n",
      "[1, 2, 3, 7, 8, 9, 10, 16, 34, 56, 12, 3]\n"
     ]
    }
   ],
   "source": [
    "issue=[1,2,3,7,8,9,10,16]\n",
    "print(\"Please enter the donated comics:\")\n",
    "n=input()\n",
    "k=n.split(',')\n",
    "for i in k:\n",
    "    donate=int(i)\n",
    "    issue.append(donate)\n",
    "print(\"Liam now owns issues:\")\n",
    "print(issue)"
   ]
  },
  {
   "cell_type": "markdown",
   "id": "eba0410c",
   "metadata": {},
   "source": [
    "### Problem 58"
   ]
  },
  {
   "cell_type": "code",
   "execution_count": 3,
   "id": "330ef8a0",
   "metadata": {},
   "outputs": [
    {
     "name": "stdout",
     "output_type": "stream",
     "text": [
      "Do you wish to add (A) or remove (R) a dress?\n",
      "A\n",
      "Please enter a new dress size:12\n",
      "Stock = [12]\n",
      "Do you wish to add (A) or remove (R) a dress?\n",
      "A\n",
      "Please enter a new dress size:14\n",
      "Stock = [12, 14]\n",
      "Do you wish to add (A) or remove (R) a dress?\n",
      "R\n",
      "Please enter a new dress size:12\n",
      "Stock = [14]\n",
      "Do you wish to add (A) or remove (R) a dress?\n",
      "R\n",
      "Please enter a new dress size:14\n",
      "Stock = []\n",
      "Do you wish to add (A) or remove (R) a dress?\n",
      "A\n",
      "Please enter a new dress size:12\n",
      "Stock = [12]\n",
      "Do you wish to add (A) or remove (R) a dress?\n",
      "A\n",
      "Please enter a new dress size:10\n",
      "Stock = [12, 10]\n",
      "Do you wish to add (A) or remove (R) a dress?\n",
      "A\n",
      "Please enter a new dress size:8\n",
      "Stock = [12, 10, 8]\n",
      "Do you wish to add (A) or remove (R) a dress?\n",
      "A\n",
      "Please enter a new dress size:10\n",
      "Stock = [12, 10, 8, 10]\n",
      "Do you wish to add (A) or remove (R) a dress?\n",
      "A\n",
      "Please enter a new dress size:132\n",
      "Stock = [12, 10, 8, 10, 132]\n",
      "Do you wish to add (A) or remove (R) a dress?\n",
      "R\n",
      "Please enter a new dress size:132\n",
      "Stock = [12, 10, 8, 10]\n",
      "Do you wish to add (A) or remove (R) a dress?\n",
      "A\n",
      "Please enter a new dress size:12\n",
      "Stock = [12, 10, 8, 10, 12]\n",
      "Do you wish to add (A) or remove (R) a dress?\n",
      "A\n",
      "Please enter a new dress size:14\n",
      "Stock = [12, 10, 8, 10, 12, 14]\n",
      "Do you wish to add (A) or remove (R) a dress?\n",
      "A\n",
      "Please enter a new dress size:16\n",
      "Stock = [12, 10, 8, 10, 12, 14, 16]\n",
      "Do you wish to add (A) or remove (R) a dress?\n",
      "A\n",
      "Please enter a new dress size:20\n",
      "Stock = [12, 10, 8, 10, 12, 14, 16, 20]\n",
      "Do you wish to add (A) or remove (R) a dress?\n",
      "A\n",
      "Please enter a new dress size:12\n",
      "Stock = [12, 10, 8, 10, 12, 14, 16, 20, 12]\n",
      "Do you wish to add (A) or remove (R) a dress?\n",
      "A\n",
      "Please enter a new dress size:12\n",
      "Stock = [12, 10, 8, 10, 12, 14, 16, 20, 12, 12]\n",
      "Do you wish to add (A) or remove (R) a dress?\n",
      "A\n",
      "Please enter a new dress size:8\n",
      "Stock = [12, 10, 8, 10, 12, 14, 16, 20, 12, 12, 8]\n",
      "Do you wish to add (A) or remove (R) a dress?\n",
      "A\n",
      "Please enter a new dress size:999\n",
      "Stock = [12, 10, 8, 10, 12, 14, 16, 20, 12, 12, 8]\n",
      "The largest dress in stock is size 20\n",
      "The smallest dress in stock is size 8\n"
     ]
    }
   ],
   "source": [
    "in_stock=[]\n",
    "while True:\n",
    "    print(\"Do you wish to add (A) or remove (R) a dress?\")\n",
    "    val=input()\n",
    "    if val==\"A\":\n",
    "        st=int(input(\"Please enter a new dress size:\"))\n",
    "        if st==999:\n",
    "            print(\"Stock =\",in_stock)\n",
    "            print(\"The largest dress in stock is size\",max(in_stock))\n",
    "            print(\"The smallest dress in stock is size\",min(in_stock))\n",
    "            break\n",
    "        in_stock.append(st)\n",
    "        print(\"Stock =\",in_stock)\n",
    "    elif val==\"R\":\n",
    "        re=int(input(\"Please enter a new dress size:\"))\n",
    "        pos=in_stock.index(re)\n",
    "        in_stock.pop(pos)\n",
    "        print(\"Stock =\",in_stock)\n",
    "    else:\n",
    "        print(\"Invalid entry. Please enter A or R.\")"
   ]
  },
  {
   "cell_type": "markdown",
   "id": "4907a4e7",
   "metadata": {},
   "source": [
    "### Problem 59"
   ]
  },
  {
   "cell_type": "code",
   "execution_count": 2,
   "id": "466088d4",
   "metadata": {},
   "outputs": [
    {
     "name": "stdout",
     "output_type": "stream",
     "text": [
      "I have generated two random numbers.\n",
      "Which is largest, 1 or 2?\n",
      "Enter your choice.\n",
      "1\n",
      "Number 1 = 987\n",
      "Number 2 = 781\n",
      "Correct, number 1 is the largest.\n",
      "Which is largest, 1 or 2?\n",
      "Enter your choice.\n",
      "2\n",
      "Number 1 = 203\n",
      "Number 2 = 951\n",
      "Correct, number 2 is the largest.\n",
      "Which is largest, 1 or 2?\n",
      "Enter your choice.\n",
      "1\n",
      "Number 1 = 316\n",
      "Number 2 = 883\n",
      "Your guess is wrong. Number 2 is the largest.\n",
      "Which is largest, 1 or 2?\n",
      "Enter your choice.\n",
      "2\n",
      "Number 1 = 997\n",
      "Number 2 = 907\n",
      "Your guess is wrong. Number 1 is the largest.\n",
      "Which is largest, 1 or 2?\n",
      "Enter your choice.\n",
      "1\n",
      "Number 1 = 678\n",
      "Number 2 = 382\n",
      "Correct, number 1 is the largest.\n",
      "Which is largest, 1 or 2?\n",
      "Enter your choice.\n",
      "1\n",
      "Number 1 = 88\n",
      "Number 2 = 918\n",
      "Your guess is wrong. Number 2 is the largest.\n",
      "Which is largest, 1 or 2?\n",
      "Enter your choice.\n",
      "2\n",
      "Number 1 = 180\n",
      "Number 2 = 337\n",
      "Correct, number 2 is the largest.\n",
      "Which is largest, 1 or 2?\n",
      "Enter your choice.\n",
      "2\n",
      "Number 1 = 253\n",
      "Number 2 = 310\n",
      "Correct, number 2 is the largest.\n",
      "Which is largest, 1 or 2?\n",
      "Enter your choice.\n",
      "1\n",
      "Number 1 = 150\n",
      "Number 2 = 657\n",
      "Your guess is wrong. Number 2 is the largest.\n",
      "Which is largest, 1 or 2?\n",
      "Enter your choice.\n",
      "2\n",
      "Number 1 = 135\n",
      "Number 2 = 648\n",
      "Correct, number 2 is the largest.\n",
      "Your total is 6 correct answer out of 10.\n",
      "Your final score is 6 correct.\n"
     ]
    }
   ],
   "source": [
    "import random as rd\n",
    "print(\"I have generated two random numbers.\")\n",
    "counter=0\n",
    "for i in range(10):\n",
    "    num1=rd.randint(1,1000)\n",
    "    num2=rd.randint(1,1000)\n",
    "    print(\"Which is largest, 1 or 2?\")\n",
    "    print(\"Enter your choice.\")\n",
    "    n=int(input())\n",
    "    print(\"Number 1 =\",num1)\n",
    "    print(\"Number 2 =\",num2)\n",
    "    if n==1:\n",
    "        if num1>num2:\n",
    "            print(\"Correct, number 1 is the largest.\")\n",
    "            counter=counter+1\n",
    "        else:\n",
    "            print(\"Your guess is wrong. Number 2 is the largest.\")\n",
    "    if n==2:\n",
    "        if num2>num1:\n",
    "            print(\"Correct, number 2 is the largest.\")\n",
    "            counter=counter+1\n",
    "        else:\n",
    "            print(\"Your guess is wrong. Number 1 is the largest.\")\n",
    "print(\"Your total is\",counter,\"correct answer out of 10.\")\n",
    "print(\"Your final score is\",counter,\"correct.\")"
   ]
  },
  {
   "cell_type": "markdown",
   "id": "62d217f8",
   "metadata": {},
   "source": [
    "### Problem 60"
   ]
  },
  {
   "cell_type": "code",
   "execution_count": 2,
   "id": "b09d9482",
   "metadata": {},
   "outputs": [
    {
     "name": "stdout",
     "output_type": "stream",
     "text": [
      "Enter age:45\n",
      "Enter seat:27\n",
      "Do you wish to enter another:y\n",
      "Enter age:86\n",
      "Enter seat:4\n",
      "Do you wish to enter another:y\n",
      "Enter age:0\n",
      "Enter seat:12\n",
      "Do you wish to enter another:y\n",
      "Enter age:12\n",
      "Enter seat:11\n",
      "Do you wish to enter another:y\n",
      "Enter age:13\n",
      "Enter seat:13\n",
      "Do you wish to enter another:y\n",
      "Enter age:0\n",
      "Enter seat:10\n",
      "Do you wish to enter another:y\n",
      "Enter age:0\n",
      "Enter seat:14\n",
      "Do you wish to enter another:y\n",
      "Enter age:0\n",
      "Enter seat:22\n",
      "Do you wish to enter another:y\n",
      "Enter age:22\n",
      "Enter seat:24\n",
      "Do you wish to enter another:y\n",
      "Enter age:0\n",
      "Enter seat:25\n",
      "Do you wish to enter another:y\n",
      "Enter age:32\n",
      "Enter seat:36\n",
      "Do you wish to enter another:y\n",
      "Enter age:0\n",
      "Enter seat:49\n",
      "Do you wish to enter another:n\n",
      "The oldest audience member is sittinng in seat 4\n",
      "6 audience members did not give their age.\n"
     ]
    }
   ],
   "source": [
    "seats=[0]*100\n",
    "count=0\n",
    "while True:\n",
    "    ag=int(input(\"Enter age:\"))\n",
    "    st=int(input(\"Enter seat:\"))\n",
    "    seats.insert(st-1,ag)\n",
    "    if ag==0:\n",
    "        count=count+1\n",
    "    ch=str(input(\"Do you wish to enter another:\"))\n",
    "    if ch==\"Y\" or ch==\"y\":\n",
    "        continue\n",
    "    if ch==\"N\" or ch==\"n\":\n",
    "        break\n",
    "pos=seats.index(max(seats))\n",
    "print(\"The oldest audience member is sittinng in seat\",pos+1)\n",
    "print(count,\"audience members did not give their age.\")"
   ]
  },
  {
   "cell_type": "markdown",
   "id": "9d1ccc50",
   "metadata": {},
   "source": [
    "### Problem 61"
   ]
  },
  {
   "cell_type": "code",
   "execution_count": 17,
   "id": "26e5b727",
   "metadata": {},
   "outputs": [
    {
     "name": "stdout",
     "output_type": "stream",
     "text": [
      "Please enter the judges' scores:\n",
      "7\n",
      "8\n",
      "6\n",
      "9\n",
      "6\n",
      "8\n",
      "4\n",
      "Please enter the difficulty rating:\n",
      "3.4\n",
      "The remaning three judges' score are:\n",
      "6\n",
      "9\n",
      "6\n",
      "The diver's score is: 71.4\n"
     ]
    }
   ],
   "source": [
    "jud_scor=[0]*7\n",
    "print(\"Please enter the judges' scores:\")\n",
    "for i in range(7):\n",
    "    sc=int(input())\n",
    "    jud_scor[i]=sc\n",
    "print(\"Please enter the difficulty rating:\")\n",
    "dif=float(input())\n",
    "tot=sum(jud_scor[2:5])\n",
    "print(\"The remaning three judges' score are:\")\n",
    "for j in range(3):\n",
    "    print(jud_scor[j+2])\n",
    "point=tot*dif\n",
    "print(\"The diver's score is:\",round(point,1))"
   ]
  },
  {
   "cell_type": "markdown",
   "id": "24b10a40",
   "metadata": {},
   "source": [
    "### Problem 62"
   ]
  },
  {
   "cell_type": "code",
   "execution_count": 3,
   "id": "5e479ebf",
   "metadata": {},
   "outputs": [
    {
     "name": "stdout",
     "output_type": "stream",
     "text": [
      "Dice rolled =3\n",
      "After roll 1 : [3]\n",
      "Dice rolled =2\n",
      "After roll 2 : [3, 2]\n",
      "Dice rolled =4\n",
      "After roll 3 : [3, 2, 4]\n",
      "Dice rolled =3\n",
      "After roll 4 : [2, 4]\n",
      "Dice rolled =5\n",
      "After roll 5 : [2, 4, 5]\n",
      "Dice rolled =3\n",
      "After roll 6 : [2, 4, 5, 3]\n",
      "Dice rolled =5\n",
      "After roll 7 : [2, 4, 3]\n",
      "Dice rolled =6\n",
      "After roll 8 : [2, 4, 3, 6]\n",
      "Dice rolled =4\n",
      "After roll 9 : [2, 3, 6]\n",
      "Dice rolled =5\n",
      "After roll 10 : [2, 3, 6, 5]\n",
      "Dice rolled =1\n",
      "After roll 11 : [2, 3, 6, 5, 1]\n",
      "Dice rolled =2\n",
      "After roll 12 : [3, 6, 5, 1]\n",
      "Dice rolled =5\n",
      "After roll 13 : [3, 6, 1]\n",
      "Dice rolled =1\n",
      "After roll 14 : [3, 6]\n",
      "Dice rolled =4\n",
      "After roll 15 : [3, 6, 4]\n",
      "Dice rolled =2\n",
      "After roll 16 : [3, 6, 4, 2]\n",
      "Dice rolled =5\n",
      "After roll 17 : [3, 6, 4, 2, 5]\n",
      "Dice rolled =2\n",
      "After roll 18 : [3, 6, 4, 5]\n",
      "Dice rolled =5\n",
      "After roll 19 : [3, 6, 4]\n",
      "Dice rolled =2\n",
      "After roll 20 : [3, 6, 4, 2]\n",
      "Dice rolled =5\n",
      "After roll 21 : [3, 6, 4, 2, 5]\n",
      "Dice rolled =1\n",
      "After roll 22 : [3, 6, 4, 2, 5, 1]\n",
      "Game completed in 22 rolls of the dice.\n"
     ]
    }
   ],
   "source": [
    "rolls=[]\n",
    "count=0\n",
    "while True:\n",
    "    count=count+1\n",
    "    rol=int(input(\"Dice rolled =\"))\n",
    "    if rol in rolls:\n",
    "        rolls.remove(rol)\n",
    "    else:\n",
    "        rolls.append(rol)\n",
    "    print(\"After roll\",count,\":\",rolls)\n",
    "    if len(rolls)==6:\n",
    "        break\n",
    "print(\"Game completed in\",count,\"rolls of the dice.\")"
   ]
  },
  {
   "cell_type": "markdown",
   "id": "fb122de7",
   "metadata": {},
   "source": [
    "### Problem 63"
   ]
  },
  {
   "cell_type": "code",
   "execution_count": 5,
   "id": "d971839b",
   "metadata": {},
   "outputs": [
    {
     "name": "stdout",
     "output_type": "stream",
     "text": [
      "Do you wish to add (A) or remove (R) a dress?\n",
      "A\n",
      "Please enter a new dress size:12\n",
      "Stock = [12]\n",
      "Do you wish to add (A) or remove (R) a dress?\n",
      "A\n",
      "Please enter a new dress size:14\n",
      "Stock = [12, 14]\n",
      "Do you wish to add (A) or remove (R) a dress?\n",
      "R\n",
      "Please enter a new dress size:12\n",
      "Stock = [14]\n",
      "Do you wish to add (A) or remove (R) a dress?\n",
      "A\n",
      "Please enter a new dress size:13\n",
      "Stock = [14, 13]\n",
      "Do you wish to add (A) or remove (R) a dress?\n",
      "R\n",
      "Please enter a new dress size:14\n",
      "Stock = [13]\n",
      "Do you wish to add (A) or remove (R) a dress?\n",
      "A\n",
      "Please enter a new dress size:12\n",
      "Stock = [13, 12]\n",
      "Do you wish to add (A) or remove (R) a dress?\n",
      "R\n",
      "Please enter a new dress size:13\n",
      "Stock = [12]\n",
      "Do you wish to add (A) or remove (R) a dress?\n",
      "A\n",
      "Please enter a new dress size:10\n",
      "Stock = [12, 10]\n",
      "Do you wish to add (A) or remove (R) a dress?\n",
      "A\n",
      "Please enter a new dress size:8\n",
      "Stock = [12, 10, 8]\n",
      "Do you wish to add (A) or remove (R) a dress?\n",
      "A\n",
      "Please enter a new dress size:10\n",
      "Stock = [12, 10, 8, 10]\n",
      "Do you wish to add (A) or remove (R) a dress?\n",
      "A\n",
      "Please enter a new dress size:12\n",
      "Stock = [12, 10, 8, 10, 12]\n",
      "Do you wish to add (A) or remove (R) a dress?\n",
      "A\n",
      "Please enter a new dress size:14\n",
      "Stock = [12, 10, 8, 10, 12, 14]\n",
      "Do you wish to add (A) or remove (R) a dress?\n",
      "A\n",
      "Please enter a new dress size:16\n",
      "Stock = [12, 10, 8, 10, 12, 14, 16]\n",
      "Do you wish to add (A) or remove (R) a dress?\n",
      "A\n",
      "Please enter a new dress size:20\n",
      "Stock = [12, 10, 8, 10, 12, 14, 16, 20]\n",
      "Do you wish to add (A) or remove (R) a dress?\n",
      "A\n",
      "Please enter a new dress size:12\n",
      "Stock = [12, 10, 8, 10, 12, 14, 16, 20, 12]\n",
      "Do you wish to add (A) or remove (R) a dress?\n",
      "A\n",
      "Please enter a new dress size:12\n",
      "Stock = [12, 10, 8, 10, 12, 14, 16, 20, 12, 12]\n",
      "Do you wish to add (A) or remove (R) a dress?\n",
      "A\n",
      "Please enter a new dress size:8\n",
      "Stock = [12, 10, 8, 10, 12, 14, 16, 20, 12, 12, 8]\n",
      "Do you wish to add (A) or remove (R) a dress?\n",
      "A\n",
      "Please enter a new dress size:999\n",
      "Enter a dress size to count:12\n",
      "There are 4 size 12 dresses in stock.\n",
      "Stock = [12, 10, 8, 10, 12, 14, 16, 20, 12, 12, 8]\n",
      "The largest dress in stock is size 20\n",
      "The smallest dress in stock is size 8\n"
     ]
    }
   ],
   "source": [
    "def number(num1):\n",
    "    n=in_stock.count(num1)\n",
    "    return n\n",
    "in_stock=[]\n",
    "while True:\n",
    "    print(\"Do you wish to add (A) or remove (R) a dress?\")\n",
    "    val=input()\n",
    "    if val==\"A\":\n",
    "        st=int(input(\"Please enter a new dress size:\"))\n",
    "        if st==999:\n",
    "            num=int(input(\"Enter a dress size to count:\"))\n",
    "            m=number(num)\n",
    "            print(\"There are\",m,\"size\",num,\"dresses in stock.\")\n",
    "            print(\"Stock =\",in_stock)\n",
    "            print(\"The largest dress in stock is size\",max(in_stock))\n",
    "            print(\"The smallest dress in stock is size\",min(in_stock))\n",
    "            break\n",
    "        in_stock.append(st)\n",
    "        print(\"Stock =\",in_stock)\n",
    "    elif val==\"R\":\n",
    "        re=int(input(\"Please enter a new dress size:\"))\n",
    "        pos=in_stock.index(re)\n",
    "        in_stock.pop(pos)\n",
    "        print(\"Stock =\",in_stock)\n",
    "    else:\n",
    "        print(\"Invalid entry. Please enter A or R.\")    "
   ]
  },
  {
   "cell_type": "markdown",
   "id": "bf328008",
   "metadata": {},
   "source": [
    "### Problem 64"
   ]
  },
  {
   "cell_type": "code",
   "execution_count": 7,
   "id": "17ec2f4c",
   "metadata": {},
   "outputs": [
    {
     "name": "stdout",
     "output_type": "stream",
     "text": [
      "How many charity raisers were there?\n",
      "6\n",
      "Enter the total raised by each:\n",
      "238\n",
      "624\n",
      "546\n",
      "333\n",
      "651\n",
      "174\n",
      "A total of $ 2566 was raised.\n",
      "This will be increased to:\n",
      "$ 4566 !!!\n",
      "$ 4566 !!!\n",
      "$ 4566 !!!\n"
     ]
    }
   ],
   "source": [
    "def charity_amount(num1):\n",
    "    tot=0\n",
    "    print(\"Enter the total raised by each:\")\n",
    "    for loop in range(num1):\n",
    "        amt=int(input())\n",
    "        tot=tot+amt\n",
    "    print(\"A total of $\",tot,\"was raised.\")\n",
    "    if(tot<1000):\n",
    "        tot1=tot+100\n",
    "        print(\"This will be increased to:\")\n",
    "        for loop in range(3):\n",
    "            print(\"$\",tot1,\"!!!\")\n",
    "    elif(tot>1000 and tot<2000):\n",
    "        tot1=tot*2\n",
    "        print(\"This will be doubled to:\")\n",
    "        for loop in range(3):\n",
    "            print(\"$\",tot1,\"!!!\")\n",
    "    elif(tot>2000):\n",
    "        tem=tot-2000\n",
    "        tot1=2*2000+tem\n",
    "        print(\"This will be increased to:\")\n",
    "        for loop in range(3):\n",
    "            print(\"$\",tot1,\"!!!\")\n",
    "    else:\n",
    "        print(\"Invalid entry.\")\n",
    "print(\"How many charity raisers were there?\")\n",
    "num=int(input())\n",
    "charity_amount(num)"
   ]
  },
  {
   "cell_type": "markdown",
   "id": "cb910ed2",
   "metadata": {},
   "source": [
    "### Problem 65"
   ]
  },
  {
   "cell_type": "code",
   "execution_count": 22,
   "id": "6c71b9ed",
   "metadata": {},
   "outputs": [
    {
     "name": "stdout",
     "output_type": "stream",
     "text": [
      "What is the circumference of your wheel in millimetres?\n",
      "1250\n",
      "How many journeys you wish to enter?\n",
      "3\n",
      "Journey 1\n",
      "How many wheel revolutions have taken place in your journey?\n",
      "8920\n",
      "How many minutes did you cycle for?\n",
      "30\n",
      "Journey 2\n",
      "How many wheel revolutions have taken place in your journey?\n",
      "10299\n",
      "How many minutes did you cycle for?\n",
      "40\n",
      "Journey 3\n",
      "How many wheel revolutions have taken place in your journey?\n",
      "4920\n",
      "How many minutes did you cycle for?\n",
      "26\n",
      "You covered 30.17 km\n",
      "At an average speed of 18.9 kmh\n"
     ]
    }
   ],
   "source": [
    "def dist(dis):\n",
    "    tot_rev=sum(dis)\n",
    "    dis1=(cir*tot_rev)/10**6\n",
    "    return dis1\n",
    "def speed(hrs):\n",
    "    tot_tim=sum(hrs)\n",
    "    t=tot_tim/60\n",
    "    sp=ds/t\n",
    "    return sp\n",
    "print(\"What is the circumference of your wheel in millimetres?\")\n",
    "cir=float(input())\n",
    "print(\"How many journeys you wish to enter?\")\n",
    "n=int(input())\n",
    "revn=[0]*n\n",
    "mins=[0]*n\n",
    "for i in range(n):\n",
    "    print(\"Journey\",i+1)\n",
    "    print(\"How many wheel revolutions have taken place in your journey?\")\n",
    "    rev=int(input())\n",
    "    print(\"How many minutes did you cycle for?\")\n",
    "    tim=float(input())\n",
    "    revn[i]=rev\n",
    "    mins[i]=tim\n",
    "ds=dist(revn)\n",
    "spd=speed(mins)\n",
    "print(\"You covered\",round(ds,2),\"km\")\n",
    "print(\"At an average speed of\",round(spd,1),\"kmh\")"
   ]
  },
  {
   "cell_type": "markdown",
   "id": "d3dac7e0",
   "metadata": {},
   "source": [
    "### Problem 66"
   ]
  },
  {
   "cell_type": "code",
   "execution_count": 25,
   "id": "5a47956c",
   "metadata": {},
   "outputs": [
    {
     "name": "stdout",
     "output_type": "stream",
     "text": [
      "Please enter the number of weeds counted at 1,1:\n",
      "3\n",
      "Please enter the number of weeds counted at 1,2:\n",
      "0\n",
      "Please enter the number of weeds counted at 1,3:\n",
      "2\n",
      "Please enter the number of weeds counted at 1,4:\n",
      "2\n",
      "Please enter the number of weeds counted at 1,5:\n",
      "0\n",
      "Please enter the number of weeds counted at 2,1:\n",
      "0\n",
      "Please enter the number of weeds counted at 2,2:\n",
      "0\n",
      "Please enter the number of weeds counted at 2,3:\n",
      "0\n",
      "Please enter the number of weeds counted at 2,4:\n",
      "3\n",
      "Please enter the number of weeds counted at 2,5:\n",
      "2\n",
      "Please enter the number of weeds counted at 3,1:\n",
      "0\n",
      "Please enter the number of weeds counted at 3,2:\n",
      "10\n",
      "Please enter the number of weeds counted at 3,3:\n",
      "6\n",
      "Please enter the number of weeds counted at 3,4:\n",
      "5\n",
      "Please enter the number of weeds counted at 3,5:\n",
      "0\n",
      "Please enter the number of weeds counted at 4,1:\n",
      "1\n",
      "Please enter the number of weeds counted at 4,2:\n",
      "1\n",
      "Please enter the number of weeds counted at 4,3:\n",
      "2\n",
      "Please enter the number of weeds counted at 4,4:\n",
      "2\n",
      "Please enter the number of weeds counted at 4,5:\n",
      "7\n",
      "Please enter the number of weeds counted at 5,1:\n",
      "0\n",
      "Please enter the number of weeds counted at 5,2:\n",
      "0\n",
      "Please enter the number of weeds counted at 5,3:\n",
      "5\n",
      "Please enter the number of weeds counted at 5,4:\n",
      "3\n",
      "Please enter the number of weeds counted at 5,5:\n",
      "2\n",
      "The results are shown below:\n",
      "3 0 2 2 0 \n",
      "0 0 0 3 2 \n",
      "0 10 6 5 0 \n",
      "1 1 2 2 7 \n",
      "0 0 5 3 2 \n",
      "The total number of weeds found was- 56\n",
      "We would advice that your lawn is dug up and re-laid.\n"
     ]
    }
   ],
   "source": [
    "def total(tot1):\n",
    "    tot2=0\n",
    "    for l in range(5):\n",
    "        for n in range(5):\n",
    "            tot2=tot2+tot1[l][n]\n",
    "    return tot2\n",
    "pos=[[0]*5 for main in range(5)]\n",
    "for i in range(5):\n",
    "    for j in range(5):\n",
    "        print(\"Please enter the number of weeds counted at\",str(i+1)+\",\"+str(j+1)+\":\")\n",
    "        pos[i][j]=int(input())\n",
    "tot=total(pos)\n",
    "print(\"The results are shown below:\")\n",
    "for k in range(5):\n",
    "    for m in range(5):\n",
    "        print(pos[k][m],\"\",end='')\n",
    "    print()\n",
    "print(\"The total number of weeds found was-\",tot)\n",
    "if tot<2:\n",
    "    print(\"You have a great, well looked after lawn.\")\n",
    "elif tot>=2 and tot<=10:\n",
    "    print(\"A bit of light weeding will help your lawn look great.\")\n",
    "elif tot>10 and tot<=50:\n",
    "    print(\"Your lawn should be treated with an evironmentally friendly weed killer.\")\n",
    "else:\n",
    "    print(\"We would advice that your lawn is dug up and re-laid.\")"
   ]
  },
  {
   "cell_type": "markdown",
   "id": "d3816930",
   "metadata": {},
   "source": [
    "### Problem 67"
   ]
  },
  {
   "cell_type": "code",
   "execution_count": 6,
   "id": "546501df",
   "metadata": {},
   "outputs": [
    {
     "name": "stdout",
     "output_type": "stream",
     "text": [
      "Please enter your word:\n",
      "music\n",
      "The random number is 3\n",
      "Password is:\n",
      "#%&musi418\n"
     ]
    }
   ],
   "source": [
    "# function 1\n",
    "def text1(word):\n",
    "    temp1=word[:4]\n",
    "    temp2=word[4:]\n",
    "    m=random.randint(100,999)\n",
    "    n=random.randint(100,999)\n",
    "    word=temp1+str(m)+temp2+str(n)\n",
    "    return word[:10]\n",
    "\n",
    "# function 2\n",
    "def text2(word):\n",
    "    l=5*len(word)\n",
    "    word=str(l-5)+word.upper()+str(l+5)\n",
    "    return word[:10]\n",
    "    \n",
    "# funtion 3\n",
    "def text3(word):\n",
    "    word=str(\"@#!\")+word.capitalize()+str(980)\n",
    "    return word[:10]\n",
    "    \n",
    "# function 4\n",
    "def text4(word):\n",
    "    temp=word[:4]\n",
    "    tmp=word[4:]\n",
    "    h=random.randint(100,999)\n",
    "    word=str(\"#%&\")+temp+str(h)+tmp\n",
    "    return word[:10]\n",
    "\n",
    "import random\n",
    "rn=random.randint(1,3)\n",
    "print(\"Please enter your word:\")\n",
    "password=input()\n",
    "print(\"The random number is\",rn)\n",
    "if len(password)>10:\n",
    "    password=password[:5]\n",
    "if rn==1:\n",
    "    password1=text1(password)\n",
    "    password2=text3(password1)\n",
    "    print(\"Password is:\")\n",
    "    print(password2)\n",
    "elif rn==2:\n",
    "    password3=text2(password)\n",
    "    password4=text4(password3)\n",
    "    print(\"Password is:\")\n",
    "    print(password4)\n",
    "elif rn==3:\n",
    "    password5=text1(password)\n",
    "    password6=text4(password5)\n",
    "    print(\"Password is:\")\n",
    "    print(password6)"
   ]
  },
  {
   "cell_type": "markdown",
   "id": "5fc994ac",
   "metadata": {},
   "source": [
    "### Problem 68"
   ]
  },
  {
   "cell_type": "code",
   "execution_count": 11,
   "id": "66461767",
   "metadata": {},
   "outputs": [],
   "source": [
    "import random\n",
    "with open(\"yearTemperatures.txt\",'w') as yT:\n",
    "    for i in range(52):\n",
    "        yT.write(str(i+1))\n",
    "        for j in range(7):\n",
    "            m=random.randint(0,42)\n",
    "            yT.write(\",\"+str(m))\n",
    "        yT.write(\"\\n\")"
   ]
  },
  {
   "cell_type": "code",
   "execution_count": 22,
   "id": "554627f5",
   "metadata": {},
   "outputs": [
    {
     "name": "stdout",
     "output_type": "stream",
     "text": [
      "Please enter the starting week\n",
      "13\n",
      "Please enter the final week\n",
      "17\n",
      "The average temperature for 13 to 17\n",
      "21.71 degrees\n"
     ]
    }
   ],
   "source": [
    "print(\"Please enter the starting week\")\n",
    "week1=int(input())\n",
    "print(\"Please enter the final week\")\n",
    "week2=int(input())\n",
    "ytemp=[]\n",
    "wtemp=[]\n",
    "with open(\"yearTemperatures.txt\",'r') as yt:\n",
    "    for i in yt.readlines():\n",
    "        i=i[0:-1]\n",
    "        ytemp.append(i)\n",
    "tot=0\n",
    "for j in range(week1-1,week2):\n",
    "    wtemp=ytemp[j].split(\",\")\n",
    "    wtemp.pop(0)\n",
    "    for k in range(7):\n",
    "        n=int(wtemp[k])\n",
    "        tot=tot+n\n",
    "avg=round(tot/((week2-week1+1)*7),2)\n",
    "print(\"The average temperature for\",week1,\"to\",week2)\n",
    "print(avg,\"degrees\")"
   ]
  },
  {
   "cell_type": "markdown",
   "id": "b5afd5a3",
   "metadata": {},
   "source": [
    "### Problem 69"
   ]
  },
  {
   "cell_type": "code",
   "execution_count": 24,
   "id": "aded475a",
   "metadata": {},
   "outputs": [
    {
     "name": "stdout",
     "output_type": "stream",
     "text": [
      "Please enter discription\n",
      "Toy Bear (20cm tall)\n",
      "Please enter the price\n",
      "1.00\n",
      "Please enter discription\n",
      "Set of six coffee cups (blue)\n",
      "Please enter the price\n",
      "2.50\n",
      "Please enter discription\n",
      "Children's tricycle\n",
      "Please enter the price\n",
      "5.75\n",
      "Please enter discription\n",
      "Lego cars (about 20 pieces)\n",
      "Please enter the price\n",
      "1.50\n",
      "Please enter discription\n",
      "Adult tennis racquet\n",
      "Please enter the price\n",
      "3.20\n",
      "Please enter discription\n",
      "Bedside cabinet (three drawers)\n",
      "Please enter the price\n",
      "10.00\n",
      "Please enter discription\n",
      "X\n"
     ]
    }
   ],
   "source": [
    "with open(\"sales.txt\",'a') as sls:\n",
    "    sls.write(\"The current stored list of itetms for sale are:\"+\"\\n\")\n",
    "    while True:\n",
    "        print(\"Please enter discription\")\n",
    "        dis=input()\n",
    "        if dis==\"X\":\n",
    "            break\n",
    "        print(\"Please enter the price\")\n",
    "        pri=float(input())\n",
    "        sls.write(dis+\" \"+\"$\"+str(pri)+\"\\n\")"
   ]
  },
  {
   "cell_type": "code",
   "execution_count": null,
   "id": "0ee9ccd7",
   "metadata": {},
   "outputs": [],
   "source": []
  }
 ],
 "metadata": {
  "kernelspec": {
   "display_name": "Python 3",
   "language": "python",
   "name": "python3"
  },
  "language_info": {
   "codemirror_mode": {
    "name": "ipython",
    "version": 3
   },
   "file_extension": ".py",
   "mimetype": "text/x-python",
   "name": "python",
   "nbconvert_exporter": "python",
   "pygments_lexer": "ipython3",
   "version": "3.8.8"
  }
 },
 "nbformat": 4,
 "nbformat_minor": 5
}
